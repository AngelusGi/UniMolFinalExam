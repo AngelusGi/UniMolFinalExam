{
 "cells": [
  {
   "source": [
    "# Map georeferencing notebook - Python"
   ],
   "cell_type": "markdown",
   "metadata": {}
  },
  {
   "cell_type": "code",
   "execution_count": 25,
   "metadata": {},
   "outputs": [],
   "source": [
    "import pandas as pd\n",
    "from geopy.geocoders import Nominatim\n",
    "import os\n",
    "import folium\n",
    "# from folium import Choropleth, Circle, Marker\n",
    "# from folium.plugins import MarkerCluster\n",
    "from geopy.geocoders import Nominatim\n",
    "\n",
    "import datetime\n",
    "import locale\n",
    "\n",
    "from matplotlib import colors as mcolors\n",
    "\n",
    "import copy"
   ]
  },
  {
   "cell_type": "code",
   "execution_count": 26,
   "metadata": {},
   "outputs": [],
   "source": [
    "# url = \"https://raw.githubusercontent.com/AngelusGi/UniMolFinalExam/main/Dataset/Original_CSV/Angelo/trackLog-2019-dic-23_13-53-06.csv\"\n",
    "# file_name = \"trackLog-2019-dic-23_13-53-06.csv\""
   ]
  },
  {
   "cell_type": "code",
   "execution_count": 27,
   "metadata": {},
   "outputs": [],
   "source": [
    "# urllib.request.urlretrieve(url, filename=file_name)"
   ]
  },
  {
   "source": [
    "Questo metodo elimina dal corrente dataframe tutte le colonne, eccezion fatta per latitudine e longitudine"
   ],
   "cell_type": "markdown",
   "metadata": {}
  },
  {
   "cell_type": "code",
   "execution_count": 28,
   "metadata": {},
   "outputs": [],
   "source": [
    "def clean_header(file_to_process):\n",
    "\n",
    "    dataTypeDict = {\"GPS Time\":str ,\"Device Time\":str ,\"Longitude\":float, \"Latitude\":float, \"GPS Speed (Meters/second)\":float, \"Altitude\":float, \"G(x)\":float, \"G(y)\":float, \"G(z)\":float, \"Kilometers Per Litre(Instant)(kpl)\": float, \"Litres Per 100 Kilometer(Instant)(l/100km)\":float, \"Actual engine % torque(%)\":float, \"Trip Distance(km)\":float, \"Engine RPM(rpm)\":float, \"GPS Accuracy(m)\":float, \"GPS Altitude(m)\":float, \"GPS Latitude(°)\":float, \"GPS Longitude(°)\":float, \"Acceleration Sensor(X axis)(g)\":float, \"Acceleration Sensor(Y axis)(g)\":float, \"Acceleration Sensor(Z axis)(g)\":float, \"Acceleration Sensor(Total)(g)\":float, \"Run time since engine start(s)\":int, \"Driver\":str}\n",
    "\n",
    "    df = pd.read_csv(file_to_process, dtype=dataTypeDict)\n",
    "    # keeps_only_latidue_longitude = [ \"GPS Time\",\"Device Time\",\"GPS Speed (Meters/second)\",\"Altitude\",\"G(x)\",\"G(y)\",\"G(z)\",\"Kilometers Per Litre(Instant)(kpl)\",\"Litres Per 100 Kilometer(Instant)(l/100km)\",\"Actual engine % torque(%)\",\"Trip Distance(km)\",\"Engine RPM(rpm)\",\"GPS Accuracy(m)\",\"GPS Altitude(m)\",\"GPS Latitude(°)\",\"GPS Longitude(°)\",\"Acceleration Sensor(X axis)(g)\",\"Acceleration Sensor(Y axis)(g)\",\"Acceleration Sensor(Z axis)(g)\",\"Acceleration Sensor(Total)(g)\",\"Run time since engine start(s)\",\"Driver\"]\n",
    "    keeps_only_latidue_longitude_time = [ \"GPS Time\",\"GPS Speed (Meters/second)\",\"Altitude\",\"G(x)\",\"G(y)\",\"G(z)\",\"Kilometers Per Litre(Instant)(kpl)\",\"Litres Per 100 Kilometer(Instant)(l/100km)\",\"Actual engine % torque(%)\",\"Trip Distance(km)\",\"Engine RPM(rpm)\",\"GPS Accuracy(m)\",\"GPS Altitude(m)\",\"GPS Latitude(°)\",\"GPS Longitude(°)\",\"Acceleration Sensor(X axis)(g)\",\"Acceleration Sensor(Y axis)(g)\",\"Acceleration Sensor(Z axis)(g)\",\"Acceleration Sensor(Total)(g)\",\"Run time since engine start(s)\",\"Driver\"]\n",
    "\n",
    "    # gps_long_lat = df.drop(columns=keeps_only_latidue_longitude)    \n",
    "    # return gps_long_lat\n",
    "\n",
    "    gps_long_lat_time = df.drop(columns=keeps_only_latidue_longitude_time)\n",
    "    return gps_long_lat_time"
   ]
  },
  {
   "cell_type": "code",
   "execution_count": 29,
   "metadata": {},
   "outputs": [],
   "source": [
    "def add_csv_to_df(file_to_process):\n",
    "    return pd.read_csv(file_to_process)"
   ]
  },
  {
   "source": [
    "codice per la gestione delle time stanp nel csv"
   ],
   "cell_type": "markdown",
   "metadata": {}
  },
  {
   "cell_type": "code",
   "execution_count": 30,
   "metadata": {},
   "outputs": [],
   "source": [
    "def ParseGpsTime(gps_value:str):\n",
    "    local_setting_gps_time = 'en_US'\n",
    "    locale.setlocale(locale.LC_ALL, local_setting_gps_time)\n",
    "\n",
    "    gps_format = '%a %b %d %H:%M:%S %z %Y'\n",
    "    # gps_test = \"Mon Dec 30 09:16:50 +0100 2019\"\n",
    "\n",
    "    date_time_gps = datetime.datetime.strptime(gps_value, gps_format)\n",
    "\n",
    "    # print(\"GPS:\")\n",
    "    # print('Date:', date_time_gps.date())\n",
    "    # print('Time:', date_time_gps.time())\n",
    "    # print('Date-time:', date_time_gps)\n",
    "\n",
    "    return date_time_gps"
   ]
  },
  {
   "cell_type": "code",
   "execution_count": 31,
   "metadata": {},
   "outputs": [],
   "source": [
    "def ParseDeviceTime(device_value:str):\n",
    "    local_setting_device_time = 'it_IT'\n",
    "    locale.setlocale(locale.LC_ALL, local_setting_device_time)\n",
    "\n",
    "    device_format = '%d-%b-%Y %H:%M:%S.%f'\n",
    "    # device_time = \"30-dic-2019 09:16:52.347\"\n",
    "\n",
    "    date_time_device = datetime.datetime.strptime(device_value, device_format)\n",
    "\n",
    "    # print(\"Device:\")\n",
    "    # print('Date:', date_time_device.date())\n",
    "    # print('Time:', date_time_device.time())\n",
    "    # print('Date-time:', date_time_device)\n",
    "\n",
    "    return date_time_device"
   ]
  },
  {
   "source": [
    "prede tutti i file nella cartella e li trasforma in un dizionario di dataframe"
   ],
   "cell_type": "markdown",
   "metadata": {}
  },
  {
   "cell_type": "code",
   "execution_count": 32,
   "metadata": {},
   "outputs": [],
   "source": [
    "basepath = os.environ['USERPROFILE']\n",
    "\n",
    "local_user = \"angel\"\n",
    "vm_user = \"vmuser\"\n",
    "\n",
    "if local_user in basepath:\n",
    "    githubpath = r\"\\GitHub\\UniMolFinalExam\"\n",
    "    current_env = local_user\n",
    "elif vm_user in basepath:\n",
    "    githubpath = r\"\\Desktop\\GitHub\\UniMolFinalExam\"\n",
    "    current_env = vm_user"
   ]
  },
  {
   "cell_type": "code",
   "execution_count": 33,
   "metadata": {},
   "outputs": [],
   "source": [
    "# csv_path = r\"{}{}\\Notebooks\\Python\\TestSet\".format(basepath,githubpath)\n",
    "csv_path = r\"{}{}\\Dataset\\Final\".format(basepath,githubpath)"
   ]
  },
  {
   "cell_type": "code",
   "execution_count": 34,
   "metadata": {},
   "outputs": [],
   "source": [
    "coordinates_data = dict()\n",
    "full_data = dict()"
   ]
  },
  {
   "cell_type": "code",
   "execution_count": 35,
   "metadata": {},
   "outputs": [
    {
     "output_type": "stream",
     "name": "stdout",
     "text": [
      "File: A.csv\n",
      "C:\\Users\\angel\\GitHub\\UniMolFinalExam\\Dataset\\Final\\A.csv\n",
      "\n",
      "File: B.csv\n",
      "C:\\Users\\angel\\GitHub\\UniMolFinalExam\\Dataset\\Final\\B.csv\n",
      "\n",
      "\n"
     ]
    }
   ],
   "source": [
    "for directory, subdir_list, file_list in os.walk(csv_path):\n",
    "    for file_name in file_list:\n",
    "        print('File:', file_name)\n",
    "        path_to_read_csv = csv_path + \"\\\\\" + file_name\n",
    "        print(path_to_read_csv)\n",
    "\n",
    "        temp_dataframe = clean_header(path_to_read_csv)\n",
    "        temp_file_name_ext = file_name.replace('.csv','')\n",
    "        final_file_name = temp_file_name_ext.replace('trackLog-','')\n",
    "        coordinates_data[final_file_name] = temp_dataframe\n",
    "\n",
    "        full_data[final_file_name] = add_csv_to_df(path_to_read_csv)\n",
    "        print()\n",
    "    print()"
   ]
  },
  {
   "source": [
    "crea un dizionario contenete solo le coordinate di latitudine e longitudine"
   ],
   "cell_type": "markdown",
   "metadata": {}
  },
  {
   "cell_type": "code",
   "execution_count": 36,
   "metadata": {},
   "outputs": [
    {
     "output_type": "execute_result",
     "data": {
      "text/plain": [
       "{'A':                     Device Time  Longitude   Latitude\n",
       " 0      23-dic-2019 13:53:09.763  13.931077  42.048168\n",
       " 1      23-dic-2019 13:53:12.432  13.931068  42.048161\n",
       " 2      23-dic-2019 13:53:15.081  13.931075  42.048154\n",
       " 3      23-dic-2019 13:53:17.284  13.931077  42.048154\n",
       " 4      23-dic-2019 13:53:19.504  13.931077  42.048155\n",
       " ...                         ...        ...        ...\n",
       " 74438  01-gen-2020 13:19:56.110  13.931075  42.048150\n",
       " 74439  01-gen-2020 13:19:57.318  13.931076  42.048151\n",
       " 74440  01-gen-2020 13:19:58.529  13.931075  42.048142\n",
       " 74441  01-gen-2020 13:19:59.743  13.931065  42.048130\n",
       " 74442  01-gen-2020 13:20:00.949  13.931066  42.048119\n",
       " \n",
       " [74443 rows x 3 columns],\n",
       " 'B':                      Device Time  Longitude   Latitude\n",
       " 0       07-dic-2019 18:55:34.543  13.926052  42.050242\n",
       " 1       07-dic-2019 18:55:35.276  13.926052  42.050242\n",
       " 2       07-dic-2019 18:55:35.430  13.926052  42.050242\n",
       " 3       07-dic-2019 18:55:38.522  13.926060  42.050236\n",
       " 4       07-dic-2019 18:55:41.180  13.926061  42.050237\n",
       " ...                          ...        ...        ...\n",
       " 188790  05-gen-2020 14:22:04.287  14.127444  42.542911\n",
       " 188791  05-gen-2020 14:22:05.314  14.127444  42.542911\n",
       " 188792  05-gen-2020 14:25:20.467  14.127447  42.542994\n",
       " 188793  05-gen-2020 14:25:21.391  14.127447  42.542994\n",
       " 188794  05-gen-2020 14:25:22.427  14.127447  42.542994\n",
       " \n",
       " [188795 rows x 3 columns]}"
      ]
     },
     "metadata": {},
     "execution_count": 36
    }
   ],
   "source": [
    "coordinates_data"
   ]
  },
  {
   "cell_type": "code",
   "execution_count": 37,
   "metadata": {},
   "outputs": [
    {
     "output_type": "stream",
     "name": "stdout",
     "text": [
      "Driver -> A\nInfo ->\n\n<class 'pandas.core.frame.DataFrame'>\nRangeIndex: 74443 entries, 0 to 74442\nData columns (total 3 columns):\n #   Column       Non-Null Count  Dtype  \n---  ------       --------------  -----  \n 0   Device Time  74443 non-null  object \n 1   Longitude    74443 non-null  float64\n 2   Latitude     74443 non-null  float64\ndtypes: float64(2), object(1)\nmemory usage: 1.7+ MB\nNone\n\nHead ->\n\n                Device Time  Longitude   Latitude\n0  23-dic-2019 13:53:09.763  13.931077  42.048168\n1  23-dic-2019 13:53:12.432  13.931068  42.048161\n2  23-dic-2019 13:53:15.081  13.931075  42.048154\n3  23-dic-2019 13:53:17.284  13.931077  42.048154\n4  23-dic-2019 13:53:19.504  13.931077  42.048155\n\n##########################################\n\nDriver -> B\nInfo ->\n\n<class 'pandas.core.frame.DataFrame'>\nRangeIndex: 188795 entries, 0 to 188794\nData columns (total 3 columns):\n #   Column       Non-Null Count   Dtype  \n---  ------       --------------   -----  \n 0   Device Time  188795 non-null  object \n 1   Longitude    188795 non-null  float64\n 2   Latitude     188795 non-null  float64\ndtypes: float64(2), object(1)\nmemory usage: 4.3+ MB\nNone\n\nHead ->\n\n                Device Time  Longitude   Latitude\n0  07-dic-2019 18:55:34.543  13.926052  42.050242\n1  07-dic-2019 18:55:35.276  13.926052  42.050242\n2  07-dic-2019 18:55:35.430  13.926052  42.050242\n3  07-dic-2019 18:55:38.522  13.926060  42.050236\n4  07-dic-2019 18:55:41.180  13.926061  42.050237\n\n##########################################\n\n"
     ]
    }
   ],
   "source": [
    "drivers_list = [\"A\", \"B\"]\n",
    "\n",
    "for driver in drivers_list:\n",
    "    print(\"Driver -> {}\".format(driver))\n",
    "\n",
    "    print(\"Info ->\")\n",
    "    print()\n",
    "    print(coordinates_data[driver].info())\n",
    "    print()\n",
    "    \n",
    "    print(\"Head ->\")\n",
    "    print()\n",
    "    print(coordinates_data[driver].head())\n",
    "    print()\n",
    "    print(\"##########################################\")\n",
    "    print()"
   ]
  },
  {
   "source": [
    "estrae un singolo dataframe"
   ],
   "cell_type": "markdown",
   "metadata": {}
  },
  {
   "cell_type": "code",
   "execution_count": 38,
   "metadata": {},
   "outputs": [],
   "source": [
    "gps_long_lat_B = coordinates_data[\"B\"]\n",
    "gps_long_lat_A = coordinates_data[\"A\"]\n",
    "\n",
    "device_timeA = ParseDeviceTime(gps_long_lat_A[\"Device Time\"][0])\n",
    "device_timeB = ParseDeviceTime(gps_long_lat_B[\"Device Time\"][0])"
   ]
  },
  {
   "cell_type": "code",
   "execution_count": 39,
   "metadata": {},
   "outputs": [
    {
     "output_type": "stream",
     "name": "stdout",
     "text": [
      "A : 2019-12-23 13:53:09.763000\nB : 2019-12-07 18:55:34.543000\n"
     ]
    },
    {
     "output_type": "execute_result",
     "data": {
      "text/plain": [
       "False"
      ]
     },
     "metadata": {},
     "execution_count": 39
    }
   ],
   "source": [
    "print(\"A : {}\".format(device_timeA))\n",
    "print(\"B : {}\".format(device_timeB))\n",
    "device_timeA.date() == device_timeB.date()"
   ]
  },
  {
   "cell_type": "code",
   "execution_count": 40,
   "metadata": {},
   "outputs": [],
   "source": [
    "first_device_time = ParseDeviceTime(gps_long_lat_A[\"Device Time\"][0])\n",
    "second_device_time = ParseDeviceTime(gps_long_lat_A[\"Device Time\"][1])\n",
    "third_device_time = ParseDeviceTime(gps_long_lat_A[\"Device Time\"][17248])\n",
    "fourth_device_time = ParseDeviceTime(gps_long_lat_A[\"Device Time\"][17249])"
   ]
  },
  {
   "cell_type": "code",
   "execution_count": 41,
   "metadata": {},
   "outputs": [
    {
     "output_type": "stream",
     "name": "stdout",
     "text": [
      "A 1st : 2019-12-23 13:53:09.763000\nA 2nd : 2019-12-23 13:53:12.432000\n"
     ]
    },
    {
     "output_type": "execute_result",
     "data": {
      "text/plain": [
       "True"
      ]
     },
     "metadata": {},
     "execution_count": 41
    }
   ],
   "source": [
    "# test Times from the same day\n",
    "print(\"A 1st : {}\".format(first_device_time))\n",
    "print(\"A 2nd : {}\".format(second_device_time))\n",
    "first_device_time.date() == second_device_time.date()"
   ]
  },
  {
   "cell_type": "code",
   "execution_count": 42,
   "metadata": {},
   "outputs": [
    {
     "output_type": "stream",
     "name": "stdout",
     "text": [
      "A 1st : 2019-12-23 13:53:09.763000\nA 3nd : 2019-12-30 23:58:26.738000\n"
     ]
    },
    {
     "output_type": "execute_result",
     "data": {
      "text/plain": [
       "False"
      ]
     },
     "metadata": {},
     "execution_count": 42
    }
   ],
   "source": [
    "# test Times from different days\n",
    "print(\"A 1st : {}\".format(first_device_time))\n",
    "print(\"A 3nd : {}\".format(third_device_time))\n",
    "first_device_time.date() == third_device_time.date()"
   ]
  },
  {
   "cell_type": "code",
   "execution_count": 43,
   "metadata": {},
   "outputs": [
    {
     "output_type": "stream",
     "name": "stdout",
     "text": [
      "A 3nd : 2019-12-30 23:58:26.738000\nA 4nd : 2019-12-31 00:01:41.749000\n"
     ]
    },
    {
     "output_type": "execute_result",
     "data": {
      "text/plain": [
       "False"
      ]
     },
     "metadata": {},
     "execution_count": 43
    }
   ],
   "source": [
    "# test Times from different days (close days/time)\n",
    "print(\"A 3nd : {}\".format(third_device_time))\n",
    "print(\"A 4nd : {}\".format(fourth_device_time))\n",
    "third_device_time.date() == fourth_device_time.date()"
   ]
  },
  {
   "source": [
    "ottenere un indirizzo a partire dalle coordinate"
   ],
   "cell_type": "markdown",
   "metadata": {}
  },
  {
   "cell_type": "code",
   "execution_count": 44,
   "metadata": {},
   "outputs": [],
   "source": [
    "geolocator = Nominatim(user_agent=\"UniMolFinalExam\")"
   ]
  },
  {
   "cell_type": "code",
   "execution_count": 45,
   "metadata": {},
   "outputs": [
    {
     "output_type": "execute_result",
     "data": {
      "text/plain": [
       "Location(Italia, (42.6384261, 12.674297, 0.0))"
      ]
     },
     "metadata": {},
     "execution_count": 45
    }
   ],
   "source": [
    "place_to_find = \"Italy\"\n",
    "geo_cordinates = geolocator.geocode(place_to_find)\n",
    "geo_cordinates"
   ]
  },
  {
   "cell_type": "code",
   "execution_count": 46,
   "metadata": {},
   "outputs": [],
   "source": [
    "map_zoom = 6\n",
    "italy_map_A = folium.Map(location=[geo_cordinates.latitude,geo_cordinates.longitude], zoom_start=map_zoom)\n",
    "italy_map_B = folium.Map(location=[geo_cordinates.latitude,geo_cordinates.longitude], zoom_start=map_zoom)"
   ]
  },
  {
   "cell_type": "code",
   "execution_count": 47,
   "metadata": {},
   "outputs": [
    {
     "output_type": "execute_result",
     "data": {
      "text/plain": [
       "<folium.folium.Map at 0x20d3058f400>"
      ],
      "text/html": "<div style=\"width:100%;\"><div style=\"position:relative;width:100%;height:0;padding-bottom:60%;\"><span style=\"color:#565656\">Make this Notebook Trusted to load map: File -> Trust Notebook</span><iframe src=\"about:blank\" style=\"position:absolute;width:100%;height:100%;left:0;top:0;border:none !important;\" data-html=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 onload=\"this.contentDocument.open();this.contentDocument.write(atob(this.getAttribute('data-html')));this.contentDocument.close();\" allowfullscreen webkitallowfullscreen mozallowfullscreen></iframe></div></div>"
     },
     "metadata": {},
     "execution_count": 47
    }
   ],
   "source": [
    "italy_map_A"
   ]
  },
  {
   "source": [
    "aggiunte i punti sulla mappa, passaggio di doppio oggetto \"map\" perché python non digerisce bene la copia di oggetti ricorsivi"
   ],
   "cell_type": "markdown",
   "metadata": {}
  },
  {
   "cell_type": "code",
   "execution_count": 48,
   "metadata": {},
   "outputs": [],
   "source": [
    "def Add_Points_To_Map(users_list, dataframe, map_A, map_B):\n",
    "    map_dictionary = dict()\n",
    "\n",
    "    color_code = 1\n",
    "    memo_copy = {}\n",
    "\n",
    "    for user in users_list:\n",
    "        current_map = None\n",
    "        color_list = None\n",
    "        color_list = copy.deepcopy(mcolors.CSS4_COLORS)\n",
    "        # color_list = copy.deepcopy(mcolors.CSS4_COLORS, memo=memo_copy)\n",
    "\n",
    "        if (user == \"A\"):\n",
    "            current_map = map_A\n",
    "        else:\n",
    "            current_map = map_B\n",
    "        \n",
    "        # color_list = {'beige', 'black', 'blue', 'cadetblue', 'darkblue', 'darkgreen', 'darkpurple', 'darkred', 'gray',\n",
    "        #               'green', 'lightblue', 'lightgray', 'lightgreen', 'lightred', 'orange', 'pink', 'purple', 'red', 'white'}\n",
    "\n",
    "        current_color = color_list.popitem()\n",
    "\n",
    "        for index in range(len(dataframe[user])):\n",
    "\n",
    "            current_row = dataframe[user].iloc[index]\n",
    "            \n",
    "            actual_device_time = ParseDeviceTime(\n",
    "                current_row[\"Device Time\"])\n",
    "\n",
    "            if (index > 0):\n",
    "                previous_row = dataframe[user].iloc[index-1]\n",
    "                previous_device_time = ParseDeviceTime(\n",
    "                    previous_row[\"Device Time\"])\n",
    "\n",
    "                if(previous_device_time.date() != actual_device_time.date()):\n",
    "                    # se giorni diversi cambia colore cambia colore\n",
    "                    current_color = color_list.popitem()\n",
    "\n",
    "            folium.Circle(\n",
    "                location = [current_row[\"Latitude\"], current_row[\"Longitude\"]],\n",
    "                radius = 10,\n",
    "                popup = \"Driver: {} | {}\".format(\n",
    "                    user, actual_device_time.date()),\n",
    "                color = current_color[color_code],\n",
    "                fill = True,\n",
    "                fill_color = current_color[color_code]\n",
    "            ).add_to(current_map)\n",
    "\n",
    "        map_dictionary[user] = current_map\n",
    "\n",
    "    return map_dictionary"
   ]
  },
  {
   "source": [
    "crea un dizionario di mappe {\"driver\":map}"
   ],
   "cell_type": "markdown",
   "metadata": {}
  },
  {
   "cell_type": "code",
   "execution_count": 49,
   "metadata": {},
   "outputs": [],
   "source": [
    "driverMapDict = Add_Points_To_Map(users_list=drivers_list, dataframe=coordinates_data, map_A=italy_map_A, map_B=italy_map_B)"
   ]
  },
  {
   "source": [
    "esporta la mappa prodotta in un file html"
   ],
   "cell_type": "markdown",
   "metadata": {}
  },
  {
   "cell_type": "code",
   "execution_count": 50,
   "metadata": {},
   "outputs": [],
   "source": [
    "for driver in drivers_list:\n",
    "    driverMapDict[driver].save(\"Driver{}_full_map.html\".format(driver))"
   ]
  },
  {
   "source": [
    "visualizzazione mappe esportate"
   ],
   "cell_type": "markdown",
   "metadata": {}
  },
  {
   "cell_type": "code",
   "execution_count": 51,
   "metadata": {},
   "outputs": [],
   "source": [
    "driverMapDict[\"A\"]"
   ]
  },
  {
   "cell_type": "code",
   "execution_count": 52,
   "metadata": {},
   "outputs": [],
   "source": [
    "driverMapDict[\"B\"]"
   ]
  },
  {
   "cell_type": "code",
   "execution_count": null,
   "metadata": {},
   "outputs": [],
   "source": []
  }
 ],
 "metadata": {
  "kernelspec": {
   "name": "Python 3.8.5 64-bit ('tesi': conda)",
   "display_name": "Python 3.8.5 64-bit ('tesi': conda)",
   "metadata": {
    "interpreter": {
     "hash": "fb742d61f61120cac5deaff8745398a8587d2bc48a901adfb34d9caf2fad4bb2"
    }
   }
  },
  "language_info": {
   "codemirror_mode": {
    "name": "ipython",
    "version": 3
   },
   "file_extension": ".py",
   "mimetype": "text/x-python",
   "name": "python",
   "nbconvert_exporter": "python",
   "pygments_lexer": "ipython3",
   "version": "3.8.5-final"
  }
 },
 "nbformat": 4,
 "nbformat_minor": 4
}