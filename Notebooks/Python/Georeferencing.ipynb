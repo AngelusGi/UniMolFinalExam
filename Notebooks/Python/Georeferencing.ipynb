{
 "cells": [
  {
   "source": [
    "# Map georeferencing notebook - Python"
   ],
   "cell_type": "markdown",
   "metadata": {}
  },
  {
   "cell_type": "code",
   "execution_count": null,
   "metadata": {},
   "outputs": [],
   "source": [
    "import pandas as pd\n",
    "from geopy.geocoders import Nominatim\n",
    "import os\n",
    "import folium\n",
    "# from folium import Choropleth, Circle, Marker\n",
    "# from folium.plugins import MarkerCluster\n",
    "from geopy.geocoders import Nominatim\n",
    "\n",
    "import datetime\n",
    "import locale\n",
    "\n",
    "from matplotlib import colors as mcolors"
   ]
  },
  {
   "cell_type": "code",
   "execution_count": null,
   "metadata": {},
   "outputs": [],
   "source": [
    "# url = \"https://raw.githubusercontent.com/AngelusGi/UniMolFinalExam/main/Dataset/Original_CSV/Angelo/trackLog-2019-dic-23_13-53-06.csv\"\n",
    "# file_name = \"trackLog-2019-dic-23_13-53-06.csv\""
   ]
  },
  {
   "cell_type": "code",
   "execution_count": null,
   "metadata": {},
   "outputs": [],
   "source": [
    "# urllib.request.urlretrieve(url, filename=file_name)"
   ]
  },
  {
   "source": [
    "Questo metodo elimina dal corrente dataframe tutte le colonne, eccezion fatta per latitudine e longitudine"
   ],
   "cell_type": "markdown",
   "metadata": {}
  },
  {
   "cell_type": "code",
   "execution_count": null,
   "metadata": {},
   "outputs": [],
   "source": [
    "def clean_header(file_to_process):\n",
    "\n",
    "    dataTypeDict = {\"GPS Time\":str ,\"Device Time\":str ,\"Longitude\":float, \"Latitude\":float, \"GPS Speed (Meters/second)\":float, \"Altitude\":float, \"G(x)\":float, \"G(y)\":float, \"G(z)\":float, \"Kilometers Per Litre(Instant)(kpl)\": float, \"Litres Per 100 Kilometer(Instant)(l/100km)\":float, \"Actual engine % torque(%)\":float, \"Trip Distance(km)\":float, \"Engine RPM(rpm)\":float, \"GPS Accuracy(m)\":float, \"GPS Altitude(m)\":float, \"GPS Latitude(°)\":float, \"GPS Longitude(°)\":float, \"Acceleration Sensor(X axis)(g)\":float, \"Acceleration Sensor(Y axis)(g)\":float, \"Acceleration Sensor(Z axis)(g)\":float, \"Acceleration Sensor(Total)(g)\":float, \"Run time since engine start(s)\":int, \"Driver\":str}\n",
    "\n",
    "    df = pd.read_csv(file_to_process, dtype=dataTypeDict)\n",
    "    # keeps_only_latidue_longitude = [ \"GPS Time\",\"Device Time\",\"GPS Speed (Meters/second)\",\"Altitude\",\"G(x)\",\"G(y)\",\"G(z)\",\"Kilometers Per Litre(Instant)(kpl)\",\"Litres Per 100 Kilometer(Instant)(l/100km)\",\"Actual engine % torque(%)\",\"Trip Distance(km)\",\"Engine RPM(rpm)\",\"GPS Accuracy(m)\",\"GPS Altitude(m)\",\"GPS Latitude(°)\",\"GPS Longitude(°)\",\"Acceleration Sensor(X axis)(g)\",\"Acceleration Sensor(Y axis)(g)\",\"Acceleration Sensor(Z axis)(g)\",\"Acceleration Sensor(Total)(g)\",\"Run time since engine start(s)\",\"Driver\"]\n",
    "    keeps_only_latidue_longitude_time = [ \"GPS Time\",\"GPS Speed (Meters/second)\",\"Altitude\",\"G(x)\",\"G(y)\",\"G(z)\",\"Kilometers Per Litre(Instant)(kpl)\",\"Litres Per 100 Kilometer(Instant)(l/100km)\",\"Actual engine % torque(%)\",\"Trip Distance(km)\",\"Engine RPM(rpm)\",\"GPS Accuracy(m)\",\"GPS Altitude(m)\",\"GPS Latitude(°)\",\"GPS Longitude(°)\",\"Acceleration Sensor(X axis)(g)\",\"Acceleration Sensor(Y axis)(g)\",\"Acceleration Sensor(Z axis)(g)\",\"Acceleration Sensor(Total)(g)\",\"Run time since engine start(s)\",\"Driver\"]\n",
    "\n",
    "    # gps_long_lat = df.drop(columns=keeps_only_latidue_longitude)    \n",
    "    # return gps_long_lat\n",
    "\n",
    "    gps_long_lat_time = df.drop(columns=keeps_only_latidue_longitude_time)\n",
    "    return gps_long_lat_time"
   ]
  },
  {
   "cell_type": "code",
   "execution_count": null,
   "metadata": {},
   "outputs": [],
   "source": [
    "def add_csv_to_df(file_to_process):\n",
    "    return pd.read_csv(file_to_process)"
   ]
  },
  {
   "source": [
    "codice per la gestione delle time stanp nel csv"
   ],
   "cell_type": "markdown",
   "metadata": {}
  },
  {
   "cell_type": "code",
   "execution_count": null,
   "metadata": {},
   "outputs": [],
   "source": [
    "def ParseGpsTime(gps_value:str):\n",
    "    local_setting_gps_time = 'en_US'\n",
    "    locale.setlocale(locale.LC_ALL, local_setting_gps_time)\n",
    "\n",
    "    gps_format = '%a %b %d %H:%M:%S %z %Y'\n",
    "    # gps_test = \"Mon Dec 30 09:16:50 +0100 2019\"\n",
    "\n",
    "    date_time_gps = datetime.datetime.strptime(gps_value, gps_format)\n",
    "\n",
    "    # print(\"GPS:\")\n",
    "    # print('Date:', date_time_gps.date())\n",
    "    # print('Time:', date_time_gps.time())\n",
    "    # print('Date-time:', date_time_gps)\n",
    "\n",
    "    return date_time_gps"
   ]
  },
  {
   "cell_type": "code",
   "execution_count": null,
   "metadata": {},
   "outputs": [],
   "source": [
    "def ParseDeviceTime(device_value:str):\n",
    "    local_setting_device_time = 'it_IT'\n",
    "    locale.setlocale(locale.LC_ALL, local_setting_device_time)\n",
    "\n",
    "    device_format = '%d-%b-%Y %H:%M:%S.%f'\n",
    "    # device_time = \"30-dic-2019 09:16:52.347\"\n",
    "\n",
    "    date_time_device = datetime.datetime.strptime(device_value, device_format)\n",
    "\n",
    "    # print(\"Device:\")\n",
    "    # print('Date:', date_time_device.date())\n",
    "    # print('Time:', date_time_device.time())\n",
    "    # print('Date-time:', date_time_device)\n",
    "\n",
    "    return date_time_device"
   ]
  },
  {
   "source": [
    "prede tutti i file nella cartella e li trasforma in un dizionario di dataframe"
   ],
   "cell_type": "markdown",
   "metadata": {}
  },
  {
   "cell_type": "code",
   "execution_count": 30,
   "metadata": {},
   "outputs": [],
   "source": [
    "basepath = os.environ['USERPROFILE']\n",
    "\n",
    "local_user = \"angel\"\n",
    "vm_user = \"vmuser\"\n",
    "\n",
    "if local_user in basepath:\n",
    "    githubpath = r\"\\GitHub\\UniMolFinalExam\"\n",
    "elif vm_user in basepath:\n",
    "    githubpath = r\"\\Desktop\\GitHub\\UniMolFinalExam\""
   ]
  },
  {
   "cell_type": "code",
   "execution_count": null,
   "metadata": {},
   "outputs": [],
   "source": [
    "# csv_path = r\"{}{}\\Notebooks\\Python\\TestSet\".format(basepath,githubpath)\n",
    "csv_path = r\"{}{}\\Dataset\\Final\".format(basepath,githubpath)"
   ]
  },
  {
   "cell_type": "code",
   "execution_count": null,
   "metadata": {},
   "outputs": [],
   "source": [
    "coordinates_data = dict()\n",
    "full_data = dict()"
   ]
  },
  {
   "cell_type": "code",
   "execution_count": null,
   "metadata": {},
   "outputs": [],
   "source": [
    "for directory, subdir_list, file_list in os.walk(csv_path):\n",
    "    for file_name in file_list:\n",
    "        print('File:', file_name)\n",
    "        path_to_read_csv = csv_path + \"\\\\\" + file_name\n",
    "        print(path_to_read_csv)\n",
    "\n",
    "        temp_dataframe = clean_header(path_to_read_csv)\n",
    "        temp_file_name_ext = file_name.replace('.csv','')\n",
    "        final_file_name = temp_file_name_ext.replace('trackLog-','')\n",
    "        coordinates_data[final_file_name] = temp_dataframe\n",
    "\n",
    "        full_data[final_file_name] = add_csv_to_df(path_to_read_csv)\n",
    "        print()\n",
    "    print()"
   ]
  },
  {
   "source": [
    "crea un dizionario contenete solo le coordinate di latitudine e longitudine"
   ],
   "cell_type": "markdown",
   "metadata": {}
  },
  {
   "cell_type": "code",
   "execution_count": null,
   "metadata": {},
   "outputs": [],
   "source": [
    "coordinates_data"
   ]
  },
  {
   "cell_type": "code",
   "execution_count": null,
   "metadata": {},
   "outputs": [],
   "source": [
    "drivers_list = [\"A\", \"B\"]\n",
    "\n",
    "for driver in drivers_list:\n",
    "    print(\"Driver -> {}\".format(driver))\n",
    "\n",
    "    print(\"Info ->\")\n",
    "    print()\n",
    "    print(coordinates_data[driver].info())\n",
    "    print()\n",
    "    \n",
    "    print(\"Head ->\")\n",
    "    print()\n",
    "    print(coordinates_data[driver].head())\n",
    "    print()\n",
    "    print(\"##########################################\")\n",
    "    print()"
   ]
  },
  {
   "source": [
    "estrae un singolo dataframe"
   ],
   "cell_type": "markdown",
   "metadata": {}
  },
  {
   "cell_type": "code",
   "execution_count": null,
   "metadata": {},
   "outputs": [],
   "source": [
    "gps_long_lat_B = coordinates_data[\"B\"]\n",
    "gps_long_lat_A = coordinates_data[\"A\"]\n",
    "\n",
    "device_timeA = ParseDeviceTime(gps_long_lat_A[\"Device Time\"][0])\n",
    "device_timeB = ParseDeviceTime(gps_long_lat_B[\"Device Time\"][0])"
   ]
  },
  {
   "cell_type": "code",
   "execution_count": null,
   "metadata": {},
   "outputs": [],
   "source": [
    "print(\"A : {}\".format(device_timeA))\n",
    "print(\"B : {}\".format(device_timeB))\n",
    "device_timeA.date() == device_timeB.date()"
   ]
  },
  {
   "cell_type": "code",
   "execution_count": null,
   "metadata": {},
   "outputs": [],
   "source": [
    "first_device_time = ParseDeviceTime(gps_long_lat_A[\"Device Time\"][0])\n",
    "second_device_time = ParseDeviceTime(gps_long_lat_A[\"Device Time\"][1])\n",
    "third_device_time = ParseDeviceTime(gps_long_lat_A[\"Device Time\"][17248])\n",
    "fourth_device_time = ParseDeviceTime(gps_long_lat_A[\"Device Time\"][17249])"
   ]
  },
  {
   "cell_type": "code",
   "execution_count": null,
   "metadata": {},
   "outputs": [],
   "source": [
    "# test Times from the same day\n",
    "print(\"A 1st : {}\".format(first_device_time))\n",
    "print(\"A 2nd : {}\".format(second_device_time))\n",
    "first_device_time.date() == second_device_time.date()"
   ]
  },
  {
   "cell_type": "code",
   "execution_count": null,
   "metadata": {},
   "outputs": [],
   "source": [
    "# test Times from different days\n",
    "print(\"A 1st : {}\".format(first_device_time))\n",
    "print(\"A 3nd : {}\".format(third_device_time))\n",
    "first_device_time.date() == third_device_time.date()"
   ]
  },
  {
   "cell_type": "code",
   "execution_count": null,
   "metadata": {},
   "outputs": [],
   "source": [
    "# test Times from different days (close days/time)\n",
    "print(\"A 3nd : {}\".format(third_device_time))\n",
    "print(\"A 4nd : {}\".format(fourth_device_time))\n",
    "third_device_time.date() == fourth_device_time.date()"
   ]
  },
  {
   "source": [
    "ottenere un indirizzo a partire dalle coordinate"
   ],
   "cell_type": "markdown",
   "metadata": {}
  },
  {
   "cell_type": "code",
   "execution_count": null,
   "metadata": {},
   "outputs": [],
   "source": [
    "geolocator = Nominatim(user_agent=\"UniMolFinalExam\")"
   ]
  },
  {
   "cell_type": "code",
   "execution_count": null,
   "metadata": {},
   "outputs": [],
   "source": [
    "place_to_find = \"Italy\"\n",
    "geo_cordinates = geolocator.geocode(place_to_find)\n",
    "geo_cordinates"
   ]
  },
  {
   "cell_type": "code",
   "execution_count": null,
   "metadata": {},
   "outputs": [],
   "source": [
    "map_zoom = 6\n",
    "italy_map = folium.Map(location=[geo_cordinates.latitude,geo_cordinates.longitude], zoom_start=map_zoom)"
   ]
  },
  {
   "cell_type": "code",
   "execution_count": null,
   "metadata": {},
   "outputs": [],
   "source": [
    "italy_map"
   ]
  },
  {
   "source": [],
   "cell_type": "markdown",
   "metadata": {}
  },
  {
   "cell_type": "code",
   "execution_count": null,
   "metadata": {},
   "outputs": [],
   "source": [
    "def Add_Points_To_Map(users_list, dataframe, map):\n",
    "    map_dictionary = dict()\n",
    "\n",
    "    color_code = 1\n",
    "\n",
    "    for user in users_list:\n",
    "        color_list = mcolors.CSS4_COLORS\n",
    "        # color_list = {'beige', 'black', 'blue', 'cadetblue', 'darkblue', 'darkgreen', 'darkpurple', 'darkred', 'gray',\n",
    "        #               'green', 'lightblue', 'lightgray', 'lightgreen', 'lightred', 'orange', 'pink', 'purple', 'red', 'white'}\n",
    "\n",
    "        current_color = color_list.popitem()\n",
    "\n",
    "        for index in range(len(dataframe[user])):\n",
    "\n",
    "            current_row = dataframe[user].iloc[index]\n",
    "            \n",
    "            actual_device_time = ParseDeviceTime(\n",
    "                current_row[\"Device Time\"])\n",
    "\n",
    "            if (index > 0):\n",
    "                previous_row = dataframe[user].iloc[index-1]\n",
    "                previous_device_time = ParseDeviceTime(\n",
    "                    previous_row[\"Device Time\"])\n",
    "\n",
    "                if(previous_device_time.date() != actual_device_time.date()):\n",
    "                    # se giorni diversi cambia colore cambia colore\n",
    "                    current_color = color_list.popitem()\n",
    "\n",
    "            folium.Circle(\n",
    "                location = [current_row[\"Latitude\"], current_row[\"Longitude\"]],\n",
    "                radius = 10,\n",
    "                popup = \"Driver: {} | {}\".format(\n",
    "                    user, actual_device_time.date()),\n",
    "                color = current_color[color_code],\n",
    "                fill = True,\n",
    "                fill_color = current_color[color_code]\n",
    "            ).add_to(map)\n",
    "\n",
    "        map_dictionary[user] = map\n",
    "\n",
    "    return map_dictionary"
   ]
  },
  {
   "source": [
    "crea un dizionario di mappe {\"driver\":map}"
   ],
   "cell_type": "markdown",
   "metadata": {}
  },
  {
   "cell_type": "code",
   "execution_count": null,
   "metadata": {},
   "outputs": [],
   "source": [
    "driverMapDict = Add_Points_To_Map(users_list=drivers_list, dataframe=coordinates_data, map=italy_map)"
   ]
  },
  {
   "source": [
    "esporta la mappa prodotta in un file html"
   ],
   "cell_type": "markdown",
   "metadata": {}
  },
  {
   "cell_type": "code",
   "execution_count": null,
   "metadata": {},
   "outputs": [],
   "source": [
    "for driver in drivers_list:\n",
    "    driverMapDict[driver].save(\"Driver{}_full_map.html\".format(driver))"
   ]
  },
  {
   "cell_type": "code",
   "execution_count": null,
   "metadata": {},
   "outputs": [],
   "source": [
    "driverMapDict[\"A\"]"
   ]
  },
  {
   "cell_type": "code",
   "execution_count": null,
   "metadata": {},
   "outputs": [],
   "source": [
    "driverMapDict[\"B\"]"
   ]
  }
 ],
 "metadata": {
  "kernelspec": {
   "name": "Python 3.8.5 64-bit ('tesi': conda)",
   "display_name": "Python 3.8.5 64-bit ('tesi': conda)",
   "metadata": {
    "interpreter": {
     "hash": "fb742d61f61120cac5deaff8745398a8587d2bc48a901adfb34d9caf2fad4bb2"
    }
   }
  },
  "language_info": {
   "codemirror_mode": {
    "name": "ipython",
    "version": 3
   },
   "file_extension": ".py",
   "mimetype": "text/x-python",
   "name": "python",
   "nbconvert_exporter": "python",
   "pygments_lexer": "ipython3",
   "version": "3.8.5-final"
  }
 },
 "nbformat": 4,
 "nbformat_minor": 4
}