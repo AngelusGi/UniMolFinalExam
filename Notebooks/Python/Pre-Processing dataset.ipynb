{
 "cells": [
  {
   "source": [
    "# CSV manipulation for initial use"
   ],
   "cell_type": "markdown",
   "metadata": {}
  },
  {
   "cell_type": "code",
   "execution_count": 1,
   "metadata": {},
   "outputs": [],
   "source": [
    "import pandas as pd\n",
    "import os"
   ]
  },
  {
   "cell_type": "code",
   "execution_count": 4,
   "metadata": {},
   "outputs": [],
   "source": [
    "userPath = os.environ['USERPROFILE']\n",
    "basePath = userPath + \"\\\\GitHub\\\\UniMolFinalExam\\\\Dataset\\\\\"\n",
    "driversList = [\"Angelo\", \"Aniceto\"]"
   ]
  },
  {
   "cell_type": "code",
   "execution_count": 2,
   "metadata": {},
   "outputs": [
    {
     "output_type": "execute_result",
     "data": {
      "text/plain": [
       "'A'"
      ]
     },
     "metadata": {},
     "execution_count": 2
    }
   ],
   "source": [
    "driversLabel = [\"A\", \"B\"]\n",
    "index = 0"
   ]
  },
  {
   "source": [
    "### Open a file, appen a new column with the same entry (driver's name) in all the rows and creates a new CSV file"
   ],
   "cell_type": "markdown",
   "metadata": {}
  },
  {
   "cell_type": "code",
   "execution_count": 5,
   "metadata": {},
   "outputs": [
    {
     "output_type": "stream",
     "name": "stdout",
     "text": [
      "Current path -> C:\\Users\\angel\\GitHub\\UniMolFinalExam\\Dataset\\Original_CSV\\Angelo\n",
      "Current file -> trackLog-2019-dic-23_13-53-06.csv\n",
      "Current file -> trackLog-2019-dic-23_16-29-22.csv\n",
      "Current file -> trackLog-2019-dic-26_17-48-59.csv\n",
      "Current file -> trackLog-2019-dic-30_09-13-27.csv\n",
      "Current file -> trackLog-2019-dic-30_15-48-11.csv\n",
      "Current file -> trackLog-2019-dic-31_12-51-24.csv\n",
      "Current file -> trackLog-2019-dic-31_16-14-44.csv\n",
      "Current file -> trackLog-2019-dic-31_17-06-00.csv\n",
      "Current file -> trackLog-2019-nov-02_19-20-18.csv\n",
      "Current file -> trackLog-2019-nov-03_12-51-02.csv\n",
      "Current file -> trackLog-2019-ott-03_22-57-51.csv\n",
      "Current file -> trackLog-2019-ott-06_15-20-22.csv\n",
      "Current file -> trackLog-2019-ott-06_16-12-10.csv\n",
      "Current file -> trackLog-2019-ott-07_08-38-01.csv\n",
      "Current file -> trackLog-2019-ott-08_12-52-44.csv\n",
      "Current file -> trackLog-2019-ott-08_12-59-20.csv\n",
      "Current file -> trackLog-2019-ott-08_13-00-01.csv\n",
      "Current file -> trackLog-2019-ott-09_10-40-26.csv\n",
      "Current file -> trackLog-2019-ott-09_19-22-41.csv\n",
      "Current file -> trackLog-2019-ott-10_08-35-04.csv\n",
      "Current file -> trackLog-2019-ott-10_10-57-55.csv\n",
      "Current file -> trackLog-2019-ott-10_12-06-46.csv\n",
      "Current file -> trackLog-2019-ott-10_12-32-15.csv\n",
      "Current file -> trackLog-2019-ott-13_18-27-14.csv\n",
      "Current file -> trackLog-2019-ott-14_10-04-21.csv\n",
      "Current file -> trackLog-2019-set-23_10-14-43.csv\n",
      "Current file -> trackLog-2019-set-24_11-08-06.csv\n",
      "Current file -> trackLog-2019-set-26_19-18-06.csv\n",
      "Current file -> trackLog-2019-set-27_08-48-41.csv\n",
      "Current file -> trackLog-2019-set-27_09-13-51.csv\n",
      "Current file -> trackLog-2019-set-28_08-44-46.csv\n",
      "Current file -> trackLog-2019-set-28_09-31-03.csv\n",
      "Current file -> trackLog-2019-set-28_14-41-47.csv\n",
      "Current file -> trackLog-2019-set-29_12-40-04.csv\n",
      "Current file -> trackLog-2020-gen-01_12-21-37.csv\n",
      "Current path -> C:\\Users\\angel\\GitHub\\UniMolFinalExam\\Dataset\\Original_CSV\\Aniceto\n",
      "Current file -> trackLog-2019-dic-07_18-55-34.csv\n",
      "Current file -> trackLog-2019-dic-07_23-58-48.csv\n",
      "Current file -> trackLog-2019-dic-09_14-34-14.csv\n",
      "Current file -> trackLog-2019-dic-11_11-18-20.csv\n",
      "Current file -> trackLog-2019-dic-11_11-31-51.csv\n",
      "Current file -> trackLog-2019-dic-12_16-20-28.csv\n",
      "Current file -> trackLog-2019-dic-13_11-30-26.csv\n",
      "Current file -> trackLog-2019-dic-13_11-49-25.csv\n",
      "Current file -> trackLog-2019-dic-13_16-50-37.csv\n",
      "Current file -> trackLog-2019-dic-14_08-09-36.csv\n",
      "Current file -> trackLog-2019-dic-16_07-22-46.csv\n",
      "Current file -> trackLog-2019-dic-16_13-00-01.csv\n",
      "Current file -> trackLog-2019-dic-16_15-23-06.csv\n",
      "Current file -> trackLog-2019-dic-17_12-46-12.csv\n",
      "Current file -> trackLog-2019-dic-17_19-09-52.csv\n",
      "Current file -> trackLog-2019-dic-18_09-12-29.csv\n",
      "Current file -> trackLog-2019-dic-18_16-08-21.csv\n",
      "Current file -> trackLog-2019-dic-18_18-09-42.csv\n",
      "Current file -> trackLog-2019-dic-18_20-05-28.csv\n",
      "Current file -> trackLog-2019-dic-19_10-01-05.csv\n",
      "Current file -> trackLog-2019-dic-19_10-23-10.csv\n",
      "Current file -> trackLog-2019-dic-19_12-43-41.csv\n",
      "Current file -> trackLog-2019-dic-19_12-53-45.csv\n",
      "Current file -> trackLog-2019-dic-19_19-52-11.csv\n",
      "Current file -> trackLog-2019-dic-20_12-39-12.csv\n",
      "Current file -> trackLog-2019-dic-20_14-44-18.csv\n",
      "Current file -> trackLog-2019-dic-20_15-47-14.csv\n",
      "Current file -> trackLog-2019-nov-03_18-11-44.csv\n",
      "Current file -> trackLog-2019-nov-04_09-26-21.csv\n",
      "Current file -> trackLog-2019-nov-04_09-26-45.csv\n",
      "Current file -> trackLog-2019-nov-04_09-40-23.csv\n",
      "Current file -> trackLog-2019-nov-04_09-53-53.csv\n",
      "Current file -> trackLog-2019-nov-04_14-32-54.csv\n",
      "Current file -> trackLog-2019-nov-20_15-38-40.csv\n",
      "Current file -> trackLog-2019-nov-22_10-33-06.csv\n",
      "Current file -> trackLog-2019-nov-23_14-47-53.csv\n",
      "Current file -> trackLog-2019-nov-23_19-04-31.csv\n",
      "Current file -> trackLog-2019-nov-24_15-07-51.csv\n",
      "Current file -> trackLog-2019-nov-28_12-59-28.csv\n",
      "Current file -> trackLog-2019-nov-28_14-20-14.csv\n",
      "Current file -> trackLog-2019-nov-29_12-49-51.csv\n",
      "Current file -> trackLog-2019-ott-15_13-54-03.csv\n",
      "Current file -> trackLog-2019-ott-15_19-04-59.csv\n",
      "Current file -> trackLog-2019-ott-16_09-39-44.csv\n",
      "Current file -> trackLog-2019-ott-16_10-46-54.csv\n",
      "Current file -> trackLog-2019-ott-16_18-58-33.csv\n",
      "Current file -> trackLog-2019-ott-16_20-04-56.csv\n",
      "Current file -> trackLog-2019-ott-17_08-46-32.csv\n",
      "Current file -> trackLog-2019-ott-17_09-11-21.csv\n",
      "Current file -> trackLog-2019-ott-17_09-27-49.csv\n",
      "Current file -> trackLog-2019-ott-17_13-35-12.csv\n",
      "Current file -> trackLog-2019-ott-18_08-10-22.csv\n",
      "Current file -> trackLog-2019-ott-18_13-36-37.csv\n",
      "Current file -> trackLog-2019-ott-18_17-59-09.csv\n",
      "Current file -> trackLog-2019-ott-19_17-44-38.csv\n",
      "Current file -> trackLog-2019-ott-19_19-11-18.csv\n",
      "Current file -> trackLog-2019-ott-21_08-10-29.csv\n",
      "Current file -> trackLog-2019-ott-21_16-18-33.csv\n",
      "Current file -> trackLog-2020-feb-05_08-45-45.csv\n",
      "Current file -> trackLog-2020-feb-09_14-31-10.csv\n",
      "Current file -> trackLog-2020-feb-12_07-18-52.csv\n",
      "Current file -> trackLog-2020-feb-12_14-53-13.csv\n",
      "Current file -> trackLog-2020-feb-12_16-35-47.csv\n",
      "Current file -> trackLog-2020-feb-12_18-27-48.csv\n",
      "Current file -> trackLog-2020-feb-12_23-06-08.csv\n",
      "Current file -> trackLog-2020-feb-13_08-19-41.csv\n",
      "Current file -> trackLog-2020-feb-13_10-22-06.csv\n",
      "Current file -> trackLog-2020-feb-14_19-10-21.csv\n",
      "Current file -> trackLog-2020-feb-14_21-51-45.csv\n",
      "Current file -> trackLog-2020-feb-15_08-20-43.csv\n",
      "Current file -> trackLog-2020-feb-15_19-34-33.csv\n",
      "Current file -> trackLog-2020-feb-15_19-47-32.csv\n",
      "Current file -> trackLog-2020-feb-16_14-26-18.csv\n",
      "Current file -> trackLog-2020-feb-18_18-52-49.csv\n",
      "Current file -> trackLog-2020-feb-19_07-07-17.csv\n",
      "Current file -> trackLog-2020-feb-19_07-12-31.csv\n",
      "Current file -> trackLog-2020-feb-19_20-49-20.csv\n",
      "Current file -> trackLog-2020-feb-20_19-19-48.csv\n",
      "Current file -> trackLog-2020-gen-05_11-15-23.csv\n"
     ]
    }
   ],
   "source": [
    "for driver in driversList:\n",
    "    driversLabel[index]\n",
    "    oldFilePath = basePath + \"Original_CSV\\\\\" + driver\n",
    "\n",
    "    print(\"Current path -> \" + oldFilePath)\n",
    "\n",
    "    with os.scandir(oldFilePath) as dirs:\n",
    "        for entry in dirs:\n",
    "            df = pd.read_csv(entry, sep=',', quotechar='\"')\n",
    "            df['Driver'] = driversLabel\n",
    "            newFilePath = basePath + \"Prepared_CSV\\\\\" + driver + \"\\\\\" + entry.name\n",
    "            print(\"Current file -> \" + entry.name)\n",
    "            df.to_csv(newFilePath, index=False)\n",
    "    \n",
    "    index += 1"
   ]
  },
  {
   "source": [
    "### All files from a single driver are merged in a single CSV"
   ],
   "cell_type": "markdown",
   "metadata": {}
  },
  {
   "cell_type": "code",
   "execution_count": 7,
   "metadata": {},
   "outputs": [
    {
     "output_type": "stream",
     "name": "stdout",
     "text": [
      "Current path -> C:\\Users\\angel\\GitHub\\UniMolFinalExam\\Dataset\\Prepared_CSV\\Angelo\\\n",
      "Current path -> C:\\Users\\angel\\GitHub\\UniMolFinalExam\\Dataset\\Prepared_CSV\\Aniceto\\\n"
     ]
    }
   ],
   "source": [
    "for driver in driversList:\n",
    "    oldFilePath = basePath + \"Prepared_CSV\\\\\" + driver + \"\\\\\"\n",
    "\n",
    "    print(\"Current path -> \" + oldFilePath)\n",
    "\n",
    "    os.chdir(oldFilePath)\n",
    "    files = os.listdir()\n",
    "\n",
    "    final_df = pd.concat([pd.read_csv(csv).assign(New=os.path.basename(csv)) for csv in files])\n",
    "    newFilePath = basePath + \"Preprocessed_CSV\\\\\" + driver + \".csv\"\n",
    "    final_df.to_csv(newFilePath, index=False)"
   ]
  }
 ],
 "metadata": {
  "kernelspec": {
   "display_name": "Python 3",
   "language": "python",
   "name": "python3"
  },
  "language_info": {
   "codemirror_mode": {
    "name": "ipython",
    "version": 3
   },
   "file_extension": ".py",
   "mimetype": "text/x-python",
   "name": "python",
   "nbconvert_exporter": "python",
   "pygments_lexer": "ipython3",
   "version": "3.8.5-final"
  }
 },
 "nbformat": 4,
 "nbformat_minor": 4
}