{
 "cells": [
  {
   "source": [
    "# Notebook Python"
   ],
   "cell_type": "markdown",
   "metadata": {}
  },
  {
   "cell_type": "code",
   "execution_count": 1,
   "metadata": {},
   "outputs": [
    {
     "output_type": "stream",
     "name": "stdout",
     "text": [
      "ciao\n"
     ]
    }
   ],
   "source": [
    "print(\"ciao\")"
   ]
  },
  {
   "cell_type": "code",
   "execution_count": 2,
   "metadata": {},
   "outputs": [],
   "source": [
    "import urllib.request"
   ]
  },
  {
   "cell_type": "code",
   "execution_count": 3,
   "metadata": {},
   "outputs": [],
   "source": [
    "url = \"https://raw.githubusercontent.com/AngelusGi/UniMolFinalExam/main/Dataset/Original_CSV/Angelo/trackLog-2019-dic-23_13-53-06.csv\"\n",
    "file_name = \"trackLog-2019-dic-23_13-53-06.csv\""
   ]
  },
  {
   "cell_type": "code",
   "execution_count": 4,
   "metadata": {},
   "outputs": [
    {
     "output_type": "execute_result",
     "data": {
      "text/plain": [
       "('trackLog-2019-dic-23_13-53-06.csv',\n",
       " <http.client.HTTPMessage at 0x252cb0e5610>)"
      ]
     },
     "metadata": {},
     "execution_count": 4
    }
   ],
   "source": [
    "urllib.request.urlretrieve(url, filename=file_name)"
   ]
  },
  {
   "cell_type": "code",
   "execution_count": 5,
   "metadata": {},
   "outputs": [],
   "source": [
    "import pandas as pd"
   ]
  },
  {
   "cell_type": "code",
   "execution_count": 58,
   "metadata": {},
   "outputs": [],
   "source": [
    "df = pd.read_csv(file_name)"
   ]
  },
  {
   "cell_type": "code",
   "execution_count": 72,
   "metadata": {},
   "outputs": [],
   "source": [
    "import geopandas\n",
    "import geopy\n",
    "from geopy.geocoders import Nominatim"
   ]
  },
  {
   "cell_type": "code",
   "execution_count": 64,
   "metadata": {},
   "outputs": [
    {
     "output_type": "execute_result",
     "data": {
      "text/plain": [
       "                             GPS Time               Device Time  Longitude  \\\n",
       "0  Mon Dec 23 13:53:08 GMT+01:00 2019  23-dic-2019 13:53:09.763  13.931077   \n",
       "1  Mon Dec 23 13:53:11 GMT+01:00 2019  23-dic-2019 13:53:12.432  13.931068   \n",
       "2  Mon Dec 23 13:53:14 GMT+01:00 2019  23-dic-2019 13:53:15.081  13.931075   \n",
       "3  Mon Dec 23 13:53:16 GMT+01:00 2019  23-dic-2019 13:53:17.284  13.931077   \n",
       "4  Mon Dec 23 13:53:18 GMT+01:00 2019  23-dic-2019 13:53:19.504  13.931077   \n",
       "\n",
       "    Latitude  GPS Speed (Meters/second)  Horizontal Dilution of Precision  \\\n",
       "0  42.048168                        0.0                         13.653000   \n",
       "1  42.048161                        0.0                         10.618999   \n",
       "2  42.048154                        0.0                         10.618999   \n",
       "3  42.048154                        0.0                          7.585000   \n",
       "4  42.048155                        0.0                          6.068000   \n",
       "\n",
       "   Altitude  Bearing      G(x)      G(y)  ...  Acceleration Sensor(Y axis)(g)  \\\n",
       "0     449.0      0.0 -1.129776  7.430710  ...                        0.760390   \n",
       "1     449.0      0.0 -0.751709  8.409378  ...                        0.861006   \n",
       "2     446.0      0.0 -0.873749  8.785049  ...                        0.891494   \n",
       "3     445.0      0.0 -0.788803  8.477570  ...                        0.858200   \n",
       "4     446.0      0.0 -0.762482  8.661819  ...                        0.881983   \n",
       "\n",
       "   Acceleration Sensor(Z axis)(g) Acceleration Sensor(Total)(g)  \\\n",
       "0                        0.517382                     -0.012764   \n",
       "1                        0.289564                     -0.051153   \n",
       "2                        0.331396                     -0.005472   \n",
       "3                        0.261392                     -0.064792   \n",
       "4                        0.325664                     -0.015723   \n",
       "\n",
       "  Run time since engine start(s)  Trip time(whilst moving)(s)  \\\n",
       "0                              -                          0.0   \n",
       "1                              -                          0.0   \n",
       "2                              -                          0.0   \n",
       "3                              -                          0.0   \n",
       "4                              -                          0.0   \n",
       "\n",
       "  Voltage (OBD Adapter)(V)  Speed (GPS)(km/h)  Speed (OBD)(km/h)  \\\n",
       "0                        -                  0                  0   \n",
       "1                        -                  0                  0   \n",
       "2                        -                  0                  0   \n",
       "3                        -                  0                  0   \n",
       "4              13.10000038                  0                  0   \n",
       "\n",
       "  Average trip speed(whilst stopped or moving)(km/h)  \\\n",
       "0                                                0.0   \n",
       "1                                                0.0   \n",
       "2                                                0.0   \n",
       "3                                                0.0   \n",
       "4                                                0.0   \n",
       "\n",
       "   Average trip speed(whilst moving only)(km/h)  \n",
       "0                                             -  \n",
       "1                                             -  \n",
       "2                                             -  \n",
       "3                                             -  \n",
       "4                                             -  \n",
       "\n",
       "[5 rows x 96 columns]"
      ],
      "text/html": "<div>\n<style scoped>\n    .dataframe tbody tr th:only-of-type {\n        vertical-align: middle;\n    }\n\n    .dataframe tbody tr th {\n        vertical-align: top;\n    }\n\n    .dataframe thead th {\n        text-align: right;\n    }\n</style>\n<table border=\"1\" class=\"dataframe\">\n  <thead>\n    <tr style=\"text-align: right;\">\n      <th></th>\n      <th>GPS Time</th>\n      <th>Device Time</th>\n      <th>Longitude</th>\n      <th>Latitude</th>\n      <th>GPS Speed (Meters/second)</th>\n      <th>Horizontal Dilution of Precision</th>\n      <th>Altitude</th>\n      <th>Bearing</th>\n      <th>G(x)</th>\n      <th>G(y)</th>\n      <th>...</th>\n      <th>Acceleration Sensor(Y axis)(g)</th>\n      <th>Acceleration Sensor(Z axis)(g)</th>\n      <th>Acceleration Sensor(Total)(g)</th>\n      <th>Run time since engine start(s)</th>\n      <th>Trip time(whilst moving)(s)</th>\n      <th>Voltage (OBD Adapter)(V)</th>\n      <th>Speed (GPS)(km/h)</th>\n      <th>Speed (OBD)(km/h)</th>\n      <th>Average trip speed(whilst stopped or moving)(km/h)</th>\n      <th>Average trip speed(whilst moving only)(km/h)</th>\n    </tr>\n  </thead>\n  <tbody>\n    <tr>\n      <th>0</th>\n      <td>Mon Dec 23 13:53:08 GMT+01:00 2019</td>\n      <td>23-dic-2019 13:53:09.763</td>\n      <td>13.931077</td>\n      <td>42.048168</td>\n      <td>0.0</td>\n      <td>13.653000</td>\n      <td>449.0</td>\n      <td>0.0</td>\n      <td>-1.129776</td>\n      <td>7.430710</td>\n      <td>...</td>\n      <td>0.760390</td>\n      <td>0.517382</td>\n      <td>-0.012764</td>\n      <td>-</td>\n      <td>0.0</td>\n      <td>-</td>\n      <td>0</td>\n      <td>0</td>\n      <td>0.0</td>\n      <td>-</td>\n    </tr>\n    <tr>\n      <th>1</th>\n      <td>Mon Dec 23 13:53:11 GMT+01:00 2019</td>\n      <td>23-dic-2019 13:53:12.432</td>\n      <td>13.931068</td>\n      <td>42.048161</td>\n      <td>0.0</td>\n      <td>10.618999</td>\n      <td>449.0</td>\n      <td>0.0</td>\n      <td>-0.751709</td>\n      <td>8.409378</td>\n      <td>...</td>\n      <td>0.861006</td>\n      <td>0.289564</td>\n      <td>-0.051153</td>\n      <td>-</td>\n      <td>0.0</td>\n      <td>-</td>\n      <td>0</td>\n      <td>0</td>\n      <td>0.0</td>\n      <td>-</td>\n    </tr>\n    <tr>\n      <th>2</th>\n      <td>Mon Dec 23 13:53:14 GMT+01:00 2019</td>\n      <td>23-dic-2019 13:53:15.081</td>\n      <td>13.931075</td>\n      <td>42.048154</td>\n      <td>0.0</td>\n      <td>10.618999</td>\n      <td>446.0</td>\n      <td>0.0</td>\n      <td>-0.873749</td>\n      <td>8.785049</td>\n      <td>...</td>\n      <td>0.891494</td>\n      <td>0.331396</td>\n      <td>-0.005472</td>\n      <td>-</td>\n      <td>0.0</td>\n      <td>-</td>\n      <td>0</td>\n      <td>0</td>\n      <td>0.0</td>\n      <td>-</td>\n    </tr>\n    <tr>\n      <th>3</th>\n      <td>Mon Dec 23 13:53:16 GMT+01:00 2019</td>\n      <td>23-dic-2019 13:53:17.284</td>\n      <td>13.931077</td>\n      <td>42.048154</td>\n      <td>0.0</td>\n      <td>7.585000</td>\n      <td>445.0</td>\n      <td>0.0</td>\n      <td>-0.788803</td>\n      <td>8.477570</td>\n      <td>...</td>\n      <td>0.858200</td>\n      <td>0.261392</td>\n      <td>-0.064792</td>\n      <td>-</td>\n      <td>0.0</td>\n      <td>-</td>\n      <td>0</td>\n      <td>0</td>\n      <td>0.0</td>\n      <td>-</td>\n    </tr>\n    <tr>\n      <th>4</th>\n      <td>Mon Dec 23 13:53:18 GMT+01:00 2019</td>\n      <td>23-dic-2019 13:53:19.504</td>\n      <td>13.931077</td>\n      <td>42.048155</td>\n      <td>0.0</td>\n      <td>6.068000</td>\n      <td>446.0</td>\n      <td>0.0</td>\n      <td>-0.762482</td>\n      <td>8.661819</td>\n      <td>...</td>\n      <td>0.881983</td>\n      <td>0.325664</td>\n      <td>-0.015723</td>\n      <td>-</td>\n      <td>0.0</td>\n      <td>13.10000038</td>\n      <td>0</td>\n      <td>0</td>\n      <td>0.0</td>\n      <td>-</td>\n    </tr>\n  </tbody>\n</table>\n<p>5 rows × 96 columns</p>\n</div>"
     },
     "metadata": {},
     "execution_count": 64
    }
   ],
   "source": [
    "df.head()"
   ]
  },
  {
   "cell_type": "code",
   "execution_count": 62,
   "metadata": {},
   "outputs": [],
   "source": [
    "keeps_only_latidue_longitude = ['GPS Time', 'Device Time', 'GPS Speed (Meters/second)', 'Horizontal Dilution of Precision', 'Altitude', 'Bearing', 'G(x)', 'G(y)', 'G(z)', 'G(calibrated)', 'Timing Advance(°)', 'Fuel Remaining (Calculated from vehicle profile)(%)', 'Engine Load(%)', 'Engine Load(Absolute)(%)', 'Kilometers Per Litre(Instant)(kpl)', 'Kilometers Per Litre(Long Term Average)(kpl)', 'Litres Per 100 Kilometer(Instant)(l/100km)', 'Litres Per 100 Kilometer(Long Term Average)(l/100km)', 'Trip average KPL(kpl)', 'Trip average Litres/100 KM(l/100km)', 'Distance to empty (Estimated)(km)', 'Fuel used (trip)(l)', 'Turbo Pressure Control(psi)', 'Actual engine % torque(%)', 'Drivers demand engine % torque(%)', 'Engine reference torque(Nm)', 'Fuel cost (trip)(cost)', 'CO₂ in g/km (Instantaneous)(g/km)', 'CO₂ in g/km (Average)(g/km)', 'GPS vs OBD Speed difference(km/h)', 'Trip Distance(km)', 'Trip distance (stored in vehicle profile)(km)', 'Distance travelled with MIL/CEL lit(km)', 'Distance travelled since codes cleared(km)', 'Volumetric Efficiency (Calculated)(%)', 'EGR Commanded(%)', 'EGR Error(%)', 'Fuel Rate (direct from ECU)(L/m)', 'Fuel flow rate/minute(cc/min)', 'Fuel flow rate/hour(l/hr)', 'Engine RPM(rpm)', 'GPS Accuracy(m)', 'GPS Altitude(m)', 'GPS Latitude(°)', 'GPS Longitude(°)', 'GPS Bearing(°)', 'GPS Satellites', 'Fuel Level (From Engine ECU)(%)', 'NOx Post SCR(ppm)', 'NOx Pre SCR(ppm)', 'O2 Sensor1 Equivalence Ratio', 'O2 Sensor1 Equivalence Ratio(alternate)', 'O2 Sensor2 Equivalence Ratio', 'O2 Sensor3 Equivalence Ratio', 'O2 Sensor4 Equivalence Ratio', 'O2 Sensor5 Equivalence Ratio', 'O2 Sensor6 Equivalence Ratio', 'O2 Sensor7 Equivalence Ratio', 'O2 Sensor8 Equivalence Ratio', 'O2 Volts Bank 1 sensor 1(V)', 'O2 Volts Bank 1 sensor 2(V)', 'O2 Volts Bank 1 sensor 3(V)', 'O2 Volts Bank 1 sensor 4(V)', 'O2 Volts Bank 2 sensor 1(V)', 'O2 Volts Bank 2 sensor 2(V)', 'Percentage of Idle driving(%)', 'Percentage of Highway driving(%)', 'Percentage of City driving(%)', 'Throttle Position(Manifold)(%)', 'Absolute Throttle Position B(%)', 'Relative Throttle Position(%)', 'Relative Accelerator Pedal Position(%)', 'Fuel pressure(psi)', 'Intake Manifold Pressure(psi)', 'Fuel Rail Pressure(psi)', 'Exhaust Pressure(psi)', 'Turbo Boost & Vacuum Gauge(psi)', 'Evap System Vapour Pressure(Pa)', 'Air Fuel Ratio(Commanded)(:1)', 'Air Fuel Ratio(Measured)(:1)', 'Commanded Equivalence Ratio(lambda)', 'Torque(Nm)', 'Engine kW (At the wheels)(kW)', 'Acceleration Sensor(X axis)(g)', 'Acceleration Sensor(Y axis)(g)', 'Acceleration Sensor(Z axis)(g)', 'Acceleration Sensor(Total)(g)', 'Run time since engine start(s)', 'Trip time(whilst moving)(s)', 'Voltage (OBD Adapter)(V)', 'Speed (GPS)(km/h)', 'Speed (OBD)(km/h)', 'Average trip speed(whilst stopped or moving)(km/h)', 'Average trip speed(whilst moving only)(km/h)']"
   ]
  },
  {
   "cell_type": "code",
   "execution_count": 68,
   "metadata": {},
   "outputs": [],
   "source": [
    "gps_long_lat = df.drop(columns=keeps_only_latidue_longitude)"
   ]
  },
  {
   "cell_type": "code",
   "execution_count": 69,
   "metadata": {},
   "outputs": [
    {
     "output_type": "execute_result",
     "data": {
      "text/plain": [
       "      Longitude   Latitude\n",
       "0     13.931077  42.048168\n",
       "1     13.931068  42.048161\n",
       "2     13.931075  42.048154\n",
       "3     13.931077  42.048154\n",
       "4     13.931077  42.048155\n",
       "...         ...        ...\n",
       "2573  14.198322  42.438225\n",
       "2574  14.198312  42.438223\n",
       "2575  14.198311  42.438228\n",
       "2576  14.198302  42.438235\n",
       "2577  14.198302  42.438219\n",
       "\n",
       "[2578 rows x 2 columns]"
      ],
      "text/html": "<div>\n<style scoped>\n    .dataframe tbody tr th:only-of-type {\n        vertical-align: middle;\n    }\n\n    .dataframe tbody tr th {\n        vertical-align: top;\n    }\n\n    .dataframe thead th {\n        text-align: right;\n    }\n</style>\n<table border=\"1\" class=\"dataframe\">\n  <thead>\n    <tr style=\"text-align: right;\">\n      <th></th>\n      <th>Longitude</th>\n      <th>Latitude</th>\n    </tr>\n  </thead>\n  <tbody>\n    <tr>\n      <th>0</th>\n      <td>13.931077</td>\n      <td>42.048168</td>\n    </tr>\n    <tr>\n      <th>1</th>\n      <td>13.931068</td>\n      <td>42.048161</td>\n    </tr>\n    <tr>\n      <th>2</th>\n      <td>13.931075</td>\n      <td>42.048154</td>\n    </tr>\n    <tr>\n      <th>3</th>\n      <td>13.931077</td>\n      <td>42.048154</td>\n    </tr>\n    <tr>\n      <th>4</th>\n      <td>13.931077</td>\n      <td>42.048155</td>\n    </tr>\n    <tr>\n      <th>...</th>\n      <td>...</td>\n      <td>...</td>\n    </tr>\n    <tr>\n      <th>2573</th>\n      <td>14.198322</td>\n      <td>42.438225</td>\n    </tr>\n    <tr>\n      <th>2574</th>\n      <td>14.198312</td>\n      <td>42.438223</td>\n    </tr>\n    <tr>\n      <th>2575</th>\n      <td>14.198311</td>\n      <td>42.438228</td>\n    </tr>\n    <tr>\n      <th>2576</th>\n      <td>14.198302</td>\n      <td>42.438235</td>\n    </tr>\n    <tr>\n      <th>2577</th>\n      <td>14.198302</td>\n      <td>42.438219</td>\n    </tr>\n  </tbody>\n</table>\n<p>2578 rows × 2 columns</p>\n</div>"
     },
     "metadata": {},
     "execution_count": 69
    }
   ],
   "source": [
    "gps_long_lat"
   ]
  },
  {
   "cell_type": "code",
   "execution_count": 73,
   "metadata": {},
   "outputs": [],
   "source": [
    "#ottenere le coordinate da un indirizzo\n",
    "locator = Nominatim(user_agent=\"myGeocoder\")\n",
    "location = locator.geocode(\"Champ de Mars, Paris, France\")"
   ]
  },
  {
   "cell_type": "code",
   "execution_count": 77,
   "metadata": {},
   "outputs": [
    {
     "output_type": "stream",
     "name": "stdout",
     "text": [
      "Latitude = 48.85614465, Longitude = 2.297820393322227\n"
     ]
    }
   ],
   "source": [
    "print(\"Latitude = {}, Longitude = {}\".format(location.latitude, location.longitude))"
   ]
  },
  {
   "cell_type": "code",
   "execution_count": 81,
   "metadata": {},
   "outputs": [],
   "source": [
    "from geopy.extra.rate_limiter import RateLimiter\n",
    "\n",
    "# 1 - conveneint function to delay between geocoding calls\n",
    "geocode = RateLimiter(locator.geocode, min_delay_seconds=1)\n"
   ]
  },
  {
   "cell_type": "code",
   "execution_count": 82,
   "metadata": {},
   "outputs": [
    {
     "output_type": "execute_result",
     "data": {
      "text/plain": [
       "                                GPS Time               Device Time  Longitude  \\\n",
       "0     Mon Dec 23 13:53:08 GMT+01:00 2019  23-dic-2019 13:53:09.763  13.931077   \n",
       "1     Mon Dec 23 13:53:11 GMT+01:00 2019  23-dic-2019 13:53:12.432  13.931068   \n",
       "2     Mon Dec 23 13:53:14 GMT+01:00 2019  23-dic-2019 13:53:15.081  13.931075   \n",
       "3     Mon Dec 23 13:53:16 GMT+01:00 2019  23-dic-2019 13:53:17.284  13.931077   \n",
       "4     Mon Dec 23 13:53:18 GMT+01:00 2019  23-dic-2019 13:53:19.504  13.931077   \n",
       "...                                  ...                       ...        ...   \n",
       "2573  Mon Dec 23 16:13:58 GMT+01:00 2019  23-dic-2019 16:13:59.622  14.198322   \n",
       "2574  Mon Dec 23 16:14:01 GMT+01:00 2019  23-dic-2019 16:14:02.694  14.198312   \n",
       "2575  Mon Dec 23 16:14:04 GMT+01:00 2019  23-dic-2019 16:14:05.561  14.198311   \n",
       "2576  Mon Dec 23 16:14:10 GMT+01:00 2019  23-dic-2019 16:14:11.638  14.198302   \n",
       "2577  Mon Dec 23 16:17:40 GMT+01:00 2019  23-dic-2019 16:17:41.556  14.198302   \n",
       "\n",
       "       Latitude  GPS Speed (Meters/second)  Horizontal Dilution of Precision  \\\n",
       "0     42.048168                       0.00                         13.653000   \n",
       "1     42.048161                       0.00                         10.618999   \n",
       "2     42.048154                       0.00                         10.618999   \n",
       "3     42.048154                       0.00                          7.585000   \n",
       "4     42.048155                       0.00                          6.068000   \n",
       "...         ...                        ...                               ...   \n",
       "2573  42.438225                       0.32                         13.653000   \n",
       "2574  42.438223                       0.47                         13.653000   \n",
       "2575  42.438228                       0.24                         13.653000   \n",
       "2576  42.438235                       0.00                         13.653000   \n",
       "2577  42.438219                       0.00                         15.170000   \n",
       "\n",
       "      Altitude  Bearing      G(x)      G(y)  ...  \\\n",
       "0        449.0      0.0 -1.129776  7.430710  ...   \n",
       "1        449.0      0.0 -0.751709  8.409378  ...   \n",
       "2        446.0      0.0 -0.873749  8.785049  ...   \n",
       "3        445.0      0.0 -0.788803  8.477570  ...   \n",
       "4        446.0      0.0 -0.762482  8.661819  ...   \n",
       "...        ...      ...       ...       ...  ...   \n",
       "2573      54.0     35.5  5.478012  1.440277  ...   \n",
       "2574      53.0     35.4  5.450500  1.445068  ...   \n",
       "2575      54.0     35.5  5.491165  1.543167  ...   \n",
       "2576      54.0      0.0  5.463654  1.433105  ...   \n",
       "2577      47.0      0.0  5.470825  1.445068  ...   \n",
       "\n",
       "      Acceleration Sensor(Y axis)(g)  Acceleration Sensor(Z axis)(g)  \\\n",
       "0                           0.760390                        0.517382   \n",
       "1                           0.861006                        0.289564   \n",
       "2                           0.891494                        0.331396   \n",
       "3                           0.858200                        0.261392   \n",
       "4                           0.881983                        0.325664   \n",
       "...                              ...                             ...   \n",
       "2573                        0.144744                        0.717882   \n",
       "2574                        0.154013                        0.711052   \n",
       "2575                        0.158404                        0.716418   \n",
       "2576                        0.146086                        0.716174   \n",
       "2577                        0.146817                        0.714710   \n",
       "\n",
       "     Acceleration Sensor(Total)(g) Run time since engine start(s)  \\\n",
       "0                        -0.012764                              -   \n",
       "1                        -0.051153                              -   \n",
       "2                        -0.005472                              -   \n",
       "3                        -0.064792                              -   \n",
       "4                        -0.015723                              -   \n",
       "...                            ...                            ...   \n",
       "2573                      0.001806                            424   \n",
       "2574                     -0.004356                            424   \n",
       "2575                      0.001116                            424   \n",
       "2576                     -0.000824                            424   \n",
       "2577                     -0.001367                            424   \n",
       "\n",
       "      Trip time(whilst moving)(s) Voltage (OBD Adapter)(V)  Speed (GPS)(km/h)  \\\n",
       "0                        0.000000                        -                  0   \n",
       "1                        0.000000                        -                  0   \n",
       "2                        0.000000                        -                  0   \n",
       "3                        0.000000                        -                  0   \n",
       "4                        0.000000              13.10000038                  0   \n",
       "...                           ...                      ...                ...   \n",
       "2573                  3960.587891              13.10000038         1.15199995   \n",
       "2574                  3960.587891              13.10000038         1.69199991   \n",
       "2575                  3960.587891              13.10000038         0.86399996   \n",
       "2576                  3960.587891              13.10000038                  0   \n",
       "2577                  3960.587891              13.10000038                  0   \n",
       "\n",
       "      Speed (OBD)(km/h) Average trip speed(whilst stopped or moving)(km/h)  \\\n",
       "0                     0                                           0.000000   \n",
       "1                     0                                           0.000000   \n",
       "2                     0                                           0.000000   \n",
       "3                     0                                           0.000000   \n",
       "4                     0                                           0.000000   \n",
       "...                 ...                                                ...   \n",
       "2573                  0                                          65.763412   \n",
       "2574                  0                                          65.763412   \n",
       "2575                  0                                          65.763412   \n",
       "2576                  0                                          65.763412   \n",
       "2577                  0                                          65.763412   \n",
       "\n",
       "      Average trip speed(whilst moving only)(km/h)  \n",
       "0                                                -  \n",
       "1                                                -  \n",
       "2                                                -  \n",
       "3                                                -  \n",
       "4                                                -  \n",
       "...                                            ...  \n",
       "2573                                   73.63379669  \n",
       "2574                                   73.63379669  \n",
       "2575                                   73.63379669  \n",
       "2576                                   73.63379669  \n",
       "2577                                   73.63379669  \n",
       "\n",
       "[2578 rows x 96 columns]"
      ],
      "text/html": "<div>\n<style scoped>\n    .dataframe tbody tr th:only-of-type {\n        vertical-align: middle;\n    }\n\n    .dataframe tbody tr th {\n        vertical-align: top;\n    }\n\n    .dataframe thead th {\n        text-align: right;\n    }\n</style>\n<table border=\"1\" class=\"dataframe\">\n  <thead>\n    <tr style=\"text-align: right;\">\n      <th></th>\n      <th>GPS Time</th>\n      <th>Device Time</th>\n      <th>Longitude</th>\n      <th>Latitude</th>\n      <th>GPS Speed (Meters/second)</th>\n      <th>Horizontal Dilution of Precision</th>\n      <th>Altitude</th>\n      <th>Bearing</th>\n      <th>G(x)</th>\n      <th>G(y)</th>\n      <th>...</th>\n      <th>Acceleration Sensor(Y axis)(g)</th>\n      <th>Acceleration Sensor(Z axis)(g)</th>\n      <th>Acceleration Sensor(Total)(g)</th>\n      <th>Run time since engine start(s)</th>\n      <th>Trip time(whilst moving)(s)</th>\n      <th>Voltage (OBD Adapter)(V)</th>\n      <th>Speed (GPS)(km/h)</th>\n      <th>Speed (OBD)(km/h)</th>\n      <th>Average trip speed(whilst stopped or moving)(km/h)</th>\n      <th>Average trip speed(whilst moving only)(km/h)</th>\n    </tr>\n  </thead>\n  <tbody>\n    <tr>\n      <th>0</th>\n      <td>Mon Dec 23 13:53:08 GMT+01:00 2019</td>\n      <td>23-dic-2019 13:53:09.763</td>\n      <td>13.931077</td>\n      <td>42.048168</td>\n      <td>0.00</td>\n      <td>13.653000</td>\n      <td>449.0</td>\n      <td>0.0</td>\n      <td>-1.129776</td>\n      <td>7.430710</td>\n      <td>...</td>\n      <td>0.760390</td>\n      <td>0.517382</td>\n      <td>-0.012764</td>\n      <td>-</td>\n      <td>0.000000</td>\n      <td>-</td>\n      <td>0</td>\n      <td>0</td>\n      <td>0.000000</td>\n      <td>-</td>\n    </tr>\n    <tr>\n      <th>1</th>\n      <td>Mon Dec 23 13:53:11 GMT+01:00 2019</td>\n      <td>23-dic-2019 13:53:12.432</td>\n      <td>13.931068</td>\n      <td>42.048161</td>\n      <td>0.00</td>\n      <td>10.618999</td>\n      <td>449.0</td>\n      <td>0.0</td>\n      <td>-0.751709</td>\n      <td>8.409378</td>\n      <td>...</td>\n      <td>0.861006</td>\n      <td>0.289564</td>\n      <td>-0.051153</td>\n      <td>-</td>\n      <td>0.000000</td>\n      <td>-</td>\n      <td>0</td>\n      <td>0</td>\n      <td>0.000000</td>\n      <td>-</td>\n    </tr>\n    <tr>\n      <th>2</th>\n      <td>Mon Dec 23 13:53:14 GMT+01:00 2019</td>\n      <td>23-dic-2019 13:53:15.081</td>\n      <td>13.931075</td>\n      <td>42.048154</td>\n      <td>0.00</td>\n      <td>10.618999</td>\n      <td>446.0</td>\n      <td>0.0</td>\n      <td>-0.873749</td>\n      <td>8.785049</td>\n      <td>...</td>\n      <td>0.891494</td>\n      <td>0.331396</td>\n      <td>-0.005472</td>\n      <td>-</td>\n      <td>0.000000</td>\n      <td>-</td>\n      <td>0</td>\n      <td>0</td>\n      <td>0.000000</td>\n      <td>-</td>\n    </tr>\n    <tr>\n      <th>3</th>\n      <td>Mon Dec 23 13:53:16 GMT+01:00 2019</td>\n      <td>23-dic-2019 13:53:17.284</td>\n      <td>13.931077</td>\n      <td>42.048154</td>\n      <td>0.00</td>\n      <td>7.585000</td>\n      <td>445.0</td>\n      <td>0.0</td>\n      <td>-0.788803</td>\n      <td>8.477570</td>\n      <td>...</td>\n      <td>0.858200</td>\n      <td>0.261392</td>\n      <td>-0.064792</td>\n      <td>-</td>\n      <td>0.000000</td>\n      <td>-</td>\n      <td>0</td>\n      <td>0</td>\n      <td>0.000000</td>\n      <td>-</td>\n    </tr>\n    <tr>\n      <th>4</th>\n      <td>Mon Dec 23 13:53:18 GMT+01:00 2019</td>\n      <td>23-dic-2019 13:53:19.504</td>\n      <td>13.931077</td>\n      <td>42.048155</td>\n      <td>0.00</td>\n      <td>6.068000</td>\n      <td>446.0</td>\n      <td>0.0</td>\n      <td>-0.762482</td>\n      <td>8.661819</td>\n      <td>...</td>\n      <td>0.881983</td>\n      <td>0.325664</td>\n      <td>-0.015723</td>\n      <td>-</td>\n      <td>0.000000</td>\n      <td>13.10000038</td>\n      <td>0</td>\n      <td>0</td>\n      <td>0.000000</td>\n      <td>-</td>\n    </tr>\n    <tr>\n      <th>...</th>\n      <td>...</td>\n      <td>...</td>\n      <td>...</td>\n      <td>...</td>\n      <td>...</td>\n      <td>...</td>\n      <td>...</td>\n      <td>...</td>\n      <td>...</td>\n      <td>...</td>\n      <td>...</td>\n      <td>...</td>\n      <td>...</td>\n      <td>...</td>\n      <td>...</td>\n      <td>...</td>\n      <td>...</td>\n      <td>...</td>\n      <td>...</td>\n      <td>...</td>\n      <td>...</td>\n    </tr>\n    <tr>\n      <th>2573</th>\n      <td>Mon Dec 23 16:13:58 GMT+01:00 2019</td>\n      <td>23-dic-2019 16:13:59.622</td>\n      <td>14.198322</td>\n      <td>42.438225</td>\n      <td>0.32</td>\n      <td>13.653000</td>\n      <td>54.0</td>\n      <td>35.5</td>\n      <td>5.478012</td>\n      <td>1.440277</td>\n      <td>...</td>\n      <td>0.144744</td>\n      <td>0.717882</td>\n      <td>0.001806</td>\n      <td>424</td>\n      <td>3960.587891</td>\n      <td>13.10000038</td>\n      <td>1.15199995</td>\n      <td>0</td>\n      <td>65.763412</td>\n      <td>73.63379669</td>\n    </tr>\n    <tr>\n      <th>2574</th>\n      <td>Mon Dec 23 16:14:01 GMT+01:00 2019</td>\n      <td>23-dic-2019 16:14:02.694</td>\n      <td>14.198312</td>\n      <td>42.438223</td>\n      <td>0.47</td>\n      <td>13.653000</td>\n      <td>53.0</td>\n      <td>35.4</td>\n      <td>5.450500</td>\n      <td>1.445068</td>\n      <td>...</td>\n      <td>0.154013</td>\n      <td>0.711052</td>\n      <td>-0.004356</td>\n      <td>424</td>\n      <td>3960.587891</td>\n      <td>13.10000038</td>\n      <td>1.69199991</td>\n      <td>0</td>\n      <td>65.763412</td>\n      <td>73.63379669</td>\n    </tr>\n    <tr>\n      <th>2575</th>\n      <td>Mon Dec 23 16:14:04 GMT+01:00 2019</td>\n      <td>23-dic-2019 16:14:05.561</td>\n      <td>14.198311</td>\n      <td>42.438228</td>\n      <td>0.24</td>\n      <td>13.653000</td>\n      <td>54.0</td>\n      <td>35.5</td>\n      <td>5.491165</td>\n      <td>1.543167</td>\n      <td>...</td>\n      <td>0.158404</td>\n      <td>0.716418</td>\n      <td>0.001116</td>\n      <td>424</td>\n      <td>3960.587891</td>\n      <td>13.10000038</td>\n      <td>0.86399996</td>\n      <td>0</td>\n      <td>65.763412</td>\n      <td>73.63379669</td>\n    </tr>\n    <tr>\n      <th>2576</th>\n      <td>Mon Dec 23 16:14:10 GMT+01:00 2019</td>\n      <td>23-dic-2019 16:14:11.638</td>\n      <td>14.198302</td>\n      <td>42.438235</td>\n      <td>0.00</td>\n      <td>13.653000</td>\n      <td>54.0</td>\n      <td>0.0</td>\n      <td>5.463654</td>\n      <td>1.433105</td>\n      <td>...</td>\n      <td>0.146086</td>\n      <td>0.716174</td>\n      <td>-0.000824</td>\n      <td>424</td>\n      <td>3960.587891</td>\n      <td>13.10000038</td>\n      <td>0</td>\n      <td>0</td>\n      <td>65.763412</td>\n      <td>73.63379669</td>\n    </tr>\n    <tr>\n      <th>2577</th>\n      <td>Mon Dec 23 16:17:40 GMT+01:00 2019</td>\n      <td>23-dic-2019 16:17:41.556</td>\n      <td>14.198302</td>\n      <td>42.438219</td>\n      <td>0.00</td>\n      <td>15.170000</td>\n      <td>47.0</td>\n      <td>0.0</td>\n      <td>5.470825</td>\n      <td>1.445068</td>\n      <td>...</td>\n      <td>0.146817</td>\n      <td>0.714710</td>\n      <td>-0.001367</td>\n      <td>424</td>\n      <td>3960.587891</td>\n      <td>13.10000038</td>\n      <td>0</td>\n      <td>0</td>\n      <td>65.763412</td>\n      <td>73.63379669</td>\n    </tr>\n  </tbody>\n</table>\n<p>2578 rows × 96 columns</p>\n</div>"
     },
     "metadata": {},
     "execution_count": 82
    }
   ],
   "source": [
    "gps_long_lat\n",
    "df[['latitude', 'longitude', 'altitude']] = pd.DataFrame(df['point'].tolist(), index=df.index)"
   ]
  },
  {
   "cell_type": "code",
   "execution_count": null,
   "metadata": {},
   "outputs": [],
   "source": [
    "# 2- - create location column\n",
    "df['location'] = df['Longitude', 'Longitude'].apply(geocode)\n"
   ]
  },
  {
   "cell_type": "code",
   "execution_count": 78,
   "metadata": {},
   "outputs": [
    {
     "output_type": "error",
     "ename": "NameError",
     "evalue": "name 'folium' is not defined",
     "traceback": [
      "\u001b[1;31m---------------------------------------------------------------------------\u001b[0m",
      "\u001b[1;31mNameError\u001b[0m                                 Traceback (most recent call last)",
      "\u001b[1;32m<ipython-input-78-b47f690d95d7>\u001b[0m in \u001b[0;36m<module>\u001b[1;34m\u001b[0m\n\u001b[1;32m----> 1\u001b[1;33m map1 = folium.Map(\n\u001b[0m\u001b[0;32m      2\u001b[0m     \u001b[0mlocation\u001b[0m\u001b[1;33m=\u001b[0m\u001b[1;33m[\u001b[0m\u001b[0mlocation\u001b[0m\u001b[1;33m.\u001b[0m\u001b[0mlatitude\u001b[0m\u001b[1;33m,\u001b[0m \u001b[0mlocation\u001b[0m\u001b[1;33m.\u001b[0m\u001b[0mlongitude\u001b[0m\u001b[1;33m]\u001b[0m\u001b[1;33m,\u001b[0m\u001b[1;33m\u001b[0m\u001b[1;33m\u001b[0m\u001b[0m\n\u001b[0;32m      3\u001b[0m     \u001b[0mtiles\u001b[0m\u001b[1;33m=\u001b[0m\u001b[1;34m'cartodbpositron'\u001b[0m\u001b[1;33m,\u001b[0m\u001b[1;33m\u001b[0m\u001b[1;33m\u001b[0m\u001b[0m\n\u001b[0;32m      4\u001b[0m     \u001b[0mzoom_start\u001b[0m\u001b[1;33m=\u001b[0m\u001b[1;36m12\u001b[0m\u001b[1;33m,\u001b[0m\u001b[1;33m\u001b[0m\u001b[1;33m\u001b[0m\u001b[0m\n\u001b[0;32m      5\u001b[0m )\n",
      "\u001b[1;31mNameError\u001b[0m: name 'folium' is not defined"
     ]
    }
   ],
   "source": [
    "map1 = folium.Map(\n",
    "    location=[location.latitude, location.longitude],\n",
    "    tiles='cartodbpositron',\n",
    "    zoom_start=12,\n",
    ")\n",
    "df.apply(lambda row:folium.CircleMarker(location=[row[\"latitude\"], row[\"longitude\"]]).add_to(map1), axis=1)\n",
    "map1"
   ]
  }
 ],
 "metadata": {
  "kernelspec": {
   "name": "Python 3.8.5 64-bit ('tesi': conda)",
   "display_name": "Python 3.8.5 64-bit ('tesi': conda)",
   "metadata": {
    "interpreter": {
     "hash": "fb742d61f61120cac5deaff8745398a8587d2bc48a901adfb34d9caf2fad4bb2"
    }
   }
  },
  "language_info": {
   "codemirror_mode": {
    "name": "ipython",
    "version": 3
   },
   "file_extension": ".py",
   "mimetype": "text/x-python",
   "name": "python",
   "nbconvert_exporter": "python",
   "pygments_lexer": "ipython3",
   "version": "3.8.5-final"
  }
 },
 "nbformat": 4,
 "nbformat_minor": 4
}