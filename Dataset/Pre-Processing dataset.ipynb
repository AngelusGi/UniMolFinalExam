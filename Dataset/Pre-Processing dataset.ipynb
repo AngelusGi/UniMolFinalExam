{
 "cells": [
  {
   "source": [
    "# CSV manipulation for initial use"
   ],
   "cell_type": "markdown",
   "metadata": {}
  },
  {
   "cell_type": "code",
   "execution_count": 1,
   "metadata": {},
   "outputs": [],
   "source": [
    "import pandas as pd\n",
    "import os"
   ]
  },
  {
   "cell_type": "code",
   "execution_count": 2,
   "metadata": {},
   "outputs": [],
   "source": [
    "userPath = os.environ['USERPROFILE']\n",
    "basePath = userPath + \"\\\\GitHub\\\\UniMolFinalExam\\\\Dataset\\\\\"\n",
    "driversList = [\"Angelo\", \"Aniceto\"]"
   ]
  },
  {
   "source": [
    "### Open a file, appen a new column with the same entry (driver's name) in all the rows and creates a new CSV file"
   ],
   "cell_type": "markdown",
   "metadata": {}
  },
  {
   "cell_type": "code",
   "execution_count": 3,
   "metadata": {},
   "outputs": [
    {
     "output_type": "stream",
     "name": "stdout",
     "text": [
      "Current path -> C:\\Users\\angel\\GitHub\\UniMolFinalExam\\Dataset\\Original_CSV\\Angelo\n",
      "Current file -> trackLog-2019-dic-23_13-53-06.csv\n",
      "Current file -> trackLog-2019-dic-23_16-29-22.csv\n",
      "Current file -> trackLog-2019-dic-26_17-48-59.csv\n",
      "Current file -> trackLog-2019-dic-30_09-13-27.csv\n",
      "Current file -> trackLog-2019-dic-30_15-48-11.csv\n",
      "Current file -> trackLog-2019-dic-31_12-51-24.csv\n",
      "Current file -> trackLog-2019-dic-31_16-14-44.csv\n",
      "Current file -> trackLog-2019-dic-31_17-06-00.csv\n",
      "Current file -> trackLog-2019-nov-02_19-20-18.csv\n",
      "Current file -> trackLog-2019-nov-03_12-51-02.csv\n",
      "Current file -> trackLog-2019-ott-03_22-57-51.csv\n",
      "Current file -> trackLog-2019-ott-06_15-20-22.csv\n",
      "Current file -> trackLog-2019-ott-06_16-12-10.csv\n",
      "Current file -> trackLog-2019-ott-07_08-38-01.csv\n",
      "Current file -> trackLog-2019-ott-08_12-52-44.csv\n",
      "Current file -> trackLog-2019-ott-08_12-59-20.csv\n",
      "Current file -> trackLog-2019-ott-08_13-00-01.csv\n",
      "Current file -> trackLog-2019-ott-09_10-40-26.csv\n",
      "Current file -> trackLog-2019-ott-09_19-22-41.csv\n",
      "Current file -> trackLog-2019-ott-10_08-35-04.csv\n",
      "Current file -> trackLog-2019-ott-10_10-57-55.csv\n",
      "Current file -> trackLog-2019-ott-10_12-06-46.csv\n",
      "Current file -> trackLog-2019-ott-10_12-32-15.csv\n",
      "Current file -> trackLog-2019-ott-13_18-27-14.csv\n",
      "Current file -> trackLog-2019-ott-14_10-04-21.csv\n",
      "Current file -> trackLog-2019-set-23_10-14-43.csv\n",
      "Current file -> trackLog-2019-set-24_11-08-06.csv\n",
      "Current file -> trackLog-2019-set-26_19-18-06.csv\n",
      "Current file -> trackLog-2019-set-27_08-48-41.csv\n",
      "Current file -> trackLog-2019-set-27_09-13-51.csv\n",
      "Current file -> trackLog-2019-set-28_08-44-46.csv\n",
      "Current file -> trackLog-2019-set-28_09-31-03.csv\n",
      "Current file -> trackLog-2019-set-28_14-41-47.csv\n",
      "Current file -> trackLog-2019-set-29_12-40-04.csv\n",
      "Current file -> trackLog-2020-gen-01_12-21-37.csv\n",
      "Current path -> C:\\Users\\angel\\GitHub\\UniMolFinalExam\\Dataset\\Original_CSV\\Aniceto\n",
      "Current file -> trackLog-2019-dic-07_18-55-34.csv\n",
      "Current file -> trackLog-2019-dic-07_23-58-48.csv\n",
      "Current file -> trackLog-2019-dic-09_14-34-14.csv\n",
      "Current file -> trackLog-2019-dic-11_11-18-20.csv\n",
      "Current file -> trackLog-2019-dic-11_11-31-51.csv\n",
      "Current file -> trackLog-2019-dic-12_16-20-28.csv\n",
      "Current file -> trackLog-2019-dic-13_11-30-26.csv\n",
      "Current file -> trackLog-2019-dic-13_11-49-25.csv\n",
      "Current file -> trackLog-2019-dic-13_16-50-37.csv\n",
      "Current file -> trackLog-2019-dic-14_08-09-36.csv\n",
      "Current file -> trackLog-2019-dic-16_07-22-46.csv\n",
      "Current file -> trackLog-2019-dic-16_13-00-01.csv\n",
      "Current file -> trackLog-2019-dic-16_15-23-06.csv\n",
      "Current file -> trackLog-2019-dic-17_12-46-12.csv\n",
      "Current file -> trackLog-2019-dic-17_19-09-52.csv\n",
      "Current file -> trackLog-2019-dic-18_09-12-29.csv\n",
      "Current file -> trackLog-2019-dic-18_16-08-21.csv\n",
      "Current file -> trackLog-2019-dic-18_18-09-42.csv\n",
      "Current file -> trackLog-2019-dic-18_20-05-28.csv\n",
      "Current file -> trackLog-2019-dic-19_10-01-05.csv\n",
      "Current file -> trackLog-2019-dic-19_10-23-10.csv\n",
      "Current file -> trackLog-2019-dic-19_12-43-41.csv\n",
      "Current file -> trackLog-2019-dic-19_12-53-45.csv\n",
      "Current file -> trackLog-2019-dic-19_19-52-11.csv\n",
      "Current file -> trackLog-2019-dic-20_12-39-12.csv\n",
      "Current file -> trackLog-2019-dic-20_14-44-18.csv\n",
      "Current file -> trackLog-2019-dic-20_15-47-14.csv\n",
      "Current file -> trackLog-2019-nov-03_18-11-44.csv\n",
      "Current file -> trackLog-2019-nov-04_09-26-21.csv\n",
      "Current file -> trackLog-2019-nov-04_09-26-45.csv\n",
      "Current file -> trackLog-2019-nov-04_09-40-23.csv\n",
      "Current file -> trackLog-2019-nov-04_09-53-53.csv\n",
      "Current file -> trackLog-2019-nov-04_14-32-54.csv\n",
      "Current file -> trackLog-2019-nov-20_15-38-40.csv\n",
      "Current file -> trackLog-2019-nov-22_10-33-06.csv\n",
      "Current file -> trackLog-2019-nov-23_14-47-53.csv\n",
      "Current file -> trackLog-2019-nov-23_19-04-31.csv\n",
      "Current file -> trackLog-2019-nov-24_15-07-51.csv\n",
      "Current file -> trackLog-2019-nov-28_12-59-28.csv\n",
      "Current file -> trackLog-2019-nov-28_14-20-14.csv\n",
      "Current file -> trackLog-2019-nov-29_12-49-51.csv\n",
      "Current file -> trackLog-2019-ott-15_13-54-03.csv\n"
     ]
    },
    {
     "output_type": "error",
     "ename": "KeyboardInterrupt",
     "evalue": "",
     "traceback": [
      "\u001b[1;31m---------------------------------------------------------------------------\u001b[0m",
      "\u001b[1;31mKeyboardInterrupt\u001b[0m                         Traceback (most recent call last)",
      "\u001b[1;32m<ipython-input-3-f9dba0263977>\u001b[0m in \u001b[0;36m<module>\u001b[1;34m\u001b[0m\n\u001b[0;32m     10\u001b[0m             \u001b[0mnewFilePath\u001b[0m \u001b[1;33m=\u001b[0m \u001b[0mbasePath\u001b[0m \u001b[1;33m+\u001b[0m \u001b[1;34m\"Prepared_CSV\\\\\"\u001b[0m \u001b[1;33m+\u001b[0m \u001b[0mdriver\u001b[0m \u001b[1;33m+\u001b[0m \u001b[1;34m\"\\\\\"\u001b[0m \u001b[1;33m+\u001b[0m \u001b[0mentry\u001b[0m\u001b[1;33m.\u001b[0m\u001b[0mname\u001b[0m\u001b[1;33m\u001b[0m\u001b[1;33m\u001b[0m\u001b[0m\n\u001b[0;32m     11\u001b[0m             \u001b[0mprint\u001b[0m\u001b[1;33m(\u001b[0m\u001b[1;34m\"Current file -> \"\u001b[0m \u001b[1;33m+\u001b[0m \u001b[0mentry\u001b[0m\u001b[1;33m.\u001b[0m\u001b[0mname\u001b[0m\u001b[1;33m)\u001b[0m\u001b[1;33m\u001b[0m\u001b[1;33m\u001b[0m\u001b[0m\n\u001b[1;32m---> 12\u001b[1;33m             \u001b[0mdf\u001b[0m\u001b[1;33m.\u001b[0m\u001b[0mto_csv\u001b[0m\u001b[1;33m(\u001b[0m\u001b[0mnewFilePath\u001b[0m\u001b[1;33m,\u001b[0m \u001b[0mindex\u001b[0m\u001b[1;33m=\u001b[0m\u001b[1;32mFalse\u001b[0m\u001b[1;33m)\u001b[0m\u001b[1;33m\u001b[0m\u001b[1;33m\u001b[0m\u001b[0m\n\u001b[0m",
      "\u001b[1;32m~\\.conda\\envs\\tesi\\lib\\site-packages\\pandas\\core\\generic.py\u001b[0m in \u001b[0;36mto_csv\u001b[1;34m(self, path_or_buf, sep, na_rep, float_format, columns, header, index, index_label, mode, encoding, compression, quoting, quotechar, line_terminator, chunksize, date_format, doublequote, escapechar, decimal, errors)\u001b[0m\n\u001b[0;32m   3168\u001b[0m             \u001b[0mdecimal\u001b[0m\u001b[1;33m=\u001b[0m\u001b[0mdecimal\u001b[0m\u001b[1;33m,\u001b[0m\u001b[1;33m\u001b[0m\u001b[1;33m\u001b[0m\u001b[0m\n\u001b[0;32m   3169\u001b[0m         )\n\u001b[1;32m-> 3170\u001b[1;33m         \u001b[0mformatter\u001b[0m\u001b[1;33m.\u001b[0m\u001b[0msave\u001b[0m\u001b[1;33m(\u001b[0m\u001b[1;33m)\u001b[0m\u001b[1;33m\u001b[0m\u001b[1;33m\u001b[0m\u001b[0m\n\u001b[0m\u001b[0;32m   3171\u001b[0m \u001b[1;33m\u001b[0m\u001b[0m\n\u001b[0;32m   3172\u001b[0m         \u001b[1;32mif\u001b[0m \u001b[0mpath_or_buf\u001b[0m \u001b[1;32mis\u001b[0m \u001b[1;32mNone\u001b[0m\u001b[1;33m:\u001b[0m\u001b[1;33m\u001b[0m\u001b[1;33m\u001b[0m\u001b[0m\n",
      "\u001b[1;32m~\\.conda\\envs\\tesi\\lib\\site-packages\\pandas\\io\\formats\\csvs.py\u001b[0m in \u001b[0;36msave\u001b[1;34m(self)\u001b[0m\n\u001b[0;32m    204\u001b[0m             )\n\u001b[0;32m    205\u001b[0m \u001b[1;33m\u001b[0m\u001b[0m\n\u001b[1;32m--> 206\u001b[1;33m             \u001b[0mself\u001b[0m\u001b[1;33m.\u001b[0m\u001b[0m_save\u001b[0m\u001b[1;33m(\u001b[0m\u001b[1;33m)\u001b[0m\u001b[1;33m\u001b[0m\u001b[1;33m\u001b[0m\u001b[0m\n\u001b[0m\u001b[0;32m    207\u001b[0m \u001b[1;33m\u001b[0m\u001b[0m\n\u001b[0;32m    208\u001b[0m         \u001b[1;32mfinally\u001b[0m\u001b[1;33m:\u001b[0m\u001b[1;33m\u001b[0m\u001b[1;33m\u001b[0m\u001b[0m\n",
      "\u001b[1;32m~\\.conda\\envs\\tesi\\lib\\site-packages\\pandas\\io\\formats\\csvs.py\u001b[0m in \u001b[0;36m_save\u001b[1;34m(self)\u001b[0m\n\u001b[0;32m    326\u001b[0m                 \u001b[1;32mbreak\u001b[0m\u001b[1;33m\u001b[0m\u001b[1;33m\u001b[0m\u001b[0m\n\u001b[0;32m    327\u001b[0m \u001b[1;33m\u001b[0m\u001b[0m\n\u001b[1;32m--> 328\u001b[1;33m             \u001b[0mself\u001b[0m\u001b[1;33m.\u001b[0m\u001b[0m_save_chunk\u001b[0m\u001b[1;33m(\u001b[0m\u001b[0mstart_i\u001b[0m\u001b[1;33m,\u001b[0m \u001b[0mend_i\u001b[0m\u001b[1;33m)\u001b[0m\u001b[1;33m\u001b[0m\u001b[1;33m\u001b[0m\u001b[0m\n\u001b[0m\u001b[0;32m    329\u001b[0m \u001b[1;33m\u001b[0m\u001b[0m\n\u001b[0;32m    330\u001b[0m     \u001b[1;32mdef\u001b[0m \u001b[0m_save_chunk\u001b[0m\u001b[1;33m(\u001b[0m\u001b[0mself\u001b[0m\u001b[1;33m,\u001b[0m \u001b[0mstart_i\u001b[0m\u001b[1;33m:\u001b[0m \u001b[0mint\u001b[0m\u001b[1;33m,\u001b[0m \u001b[0mend_i\u001b[0m\u001b[1;33m:\u001b[0m \u001b[0mint\u001b[0m\u001b[1;33m)\u001b[0m \u001b[1;33m->\u001b[0m \u001b[1;32mNone\u001b[0m\u001b[1;33m:\u001b[0m\u001b[1;33m\u001b[0m\u001b[1;33m\u001b[0m\u001b[0m\n",
      "\u001b[1;32m~\\.conda\\envs\\tesi\\lib\\site-packages\\pandas\\io\\formats\\csvs.py\u001b[0m in \u001b[0;36m_save_chunk\u001b[1;34m(self, start_i, end_i)\u001b[0m\n\u001b[0;32m    339\u001b[0m         \u001b[1;32mfor\u001b[0m \u001b[0mi\u001b[0m \u001b[1;32min\u001b[0m \u001b[0mrange\u001b[0m\u001b[1;33m(\u001b[0m\u001b[0mlen\u001b[0m\u001b[1;33m(\u001b[0m\u001b[0mblocks\u001b[0m\u001b[1;33m)\u001b[0m\u001b[1;33m)\u001b[0m\u001b[1;33m:\u001b[0m\u001b[1;33m\u001b[0m\u001b[1;33m\u001b[0m\u001b[0m\n\u001b[0;32m    340\u001b[0m             \u001b[0mb\u001b[0m \u001b[1;33m=\u001b[0m \u001b[0mblocks\u001b[0m\u001b[1;33m[\u001b[0m\u001b[0mi\u001b[0m\u001b[1;33m]\u001b[0m\u001b[1;33m\u001b[0m\u001b[1;33m\u001b[0m\u001b[0m\n\u001b[1;32m--> 341\u001b[1;33m             d = b.to_native_types(\n\u001b[0m\u001b[0;32m    342\u001b[0m                 \u001b[0mna_rep\u001b[0m\u001b[1;33m=\u001b[0m\u001b[0mself\u001b[0m\u001b[1;33m.\u001b[0m\u001b[0mna_rep\u001b[0m\u001b[1;33m,\u001b[0m\u001b[1;33m\u001b[0m\u001b[1;33m\u001b[0m\u001b[0m\n\u001b[0;32m    343\u001b[0m                 \u001b[0mfloat_format\u001b[0m\u001b[1;33m=\u001b[0m\u001b[0mself\u001b[0m\u001b[1;33m.\u001b[0m\u001b[0mfloat_format\u001b[0m\u001b[1;33m,\u001b[0m\u001b[1;33m\u001b[0m\u001b[1;33m\u001b[0m\u001b[0m\n",
      "\u001b[1;32m~\\.conda\\envs\\tesi\\lib\\site-packages\\pandas\\core\\internals\\blocks.py\u001b[0m in \u001b[0;36mto_native_types\u001b[1;34m(self, na_rep, float_format, decimal, quoting, **kwargs)\u001b[0m\n\u001b[0;32m   1953\u001b[0m                 \u001b[0mvalues\u001b[0m \u001b[1;33m=\u001b[0m \u001b[0mnp\u001b[0m\u001b[1;33m.\u001b[0m\u001b[0marray\u001b[0m\u001b[1;33m(\u001b[0m\u001b[0mvalues\u001b[0m\u001b[1;33m,\u001b[0m \u001b[0mdtype\u001b[0m\u001b[1;33m=\u001b[0m\u001b[1;34m\"object\"\u001b[0m\u001b[1;33m)\u001b[0m\u001b[1;33m\u001b[0m\u001b[1;33m\u001b[0m\u001b[0m\n\u001b[0;32m   1954\u001b[0m \u001b[1;33m\u001b[0m\u001b[0m\n\u001b[1;32m-> 1955\u001b[1;33m             \u001b[0mvalues\u001b[0m\u001b[1;33m[\u001b[0m\u001b[0mmask\u001b[0m\u001b[1;33m]\u001b[0m \u001b[1;33m=\u001b[0m \u001b[0mna_rep\u001b[0m\u001b[1;33m\u001b[0m\u001b[1;33m\u001b[0m\u001b[0m\n\u001b[0m\u001b[0;32m   1956\u001b[0m             \u001b[1;32mreturn\u001b[0m \u001b[0mvalues\u001b[0m\u001b[1;33m\u001b[0m\u001b[1;33m\u001b[0m\u001b[0m\n\u001b[0;32m   1957\u001b[0m \u001b[1;33m\u001b[0m\u001b[0m\n",
      "\u001b[1;31mKeyboardInterrupt\u001b[0m: "
     ]
    }
   ],
   "source": [
    "for driver in driversList:\n",
    "    oldFilePath = basePath + \"Original_CSV\\\\\" + driver\n",
    "\n",
    "    print(\"Current path -> \" + oldFilePath)\n",
    "\n",
    "    with os.scandir(oldFilePath) as dirs:\n",
    "        for entry in dirs:\n",
    "            df = pd.read_csv(entry, sep=',', quotechar='\"')\n",
    "            df['Driver'] = driver\n",
    "            newFilePath = basePath + \"Prepared_CSV\\\\\" + driver + \"\\\\\" + entry.name\n",
    "            print(\"Current file -> \" + entry.name)\n",
    "            df.to_csv(newFilePath, index=False)"
   ]
  },
  {
   "source": [
    "### All files from a single driver are merged in a single CSV"
   ],
   "cell_type": "markdown",
   "metadata": {}
  },
  {
   "cell_type": "code",
   "execution_count": 5,
   "metadata": {},
   "outputs": [
    {
     "output_type": "stream",
     "name": "stdout",
     "text": [
      "Current path -> C:\\Users\\angel\\GitHub\\finalExamUniMol\\Dataset\\Prepared_CSV\\Angelo\\\n",
      "Current path -> C:\\Users\\angel\\GitHub\\finalExamUniMol\\Dataset\\Prepared_CSV\\Aniceto\\\n"
     ]
    }
   ],
   "source": [
    "for driver in driversList:\n",
    "    oldFilePath = basePath + \"Prepared_CSV\\\\\" + driver + \"\\\\\"\n",
    "\n",
    "    print(\"Current path -> \" + oldFilePath)\n",
    "\n",
    "    os.chdir(oldFilePath)\n",
    "    files = os.listdir()\n",
    "\n",
    "    final_df = pd.concat([pd.read_csv(csv).assign(New=os.path.basename(csv)) for csv in files])\n",
    "    newFilePath = basePath + \"Preprocessed_CSV\\\\\" + driver + \".csv\"\n",
    "    final_df.to_csv(newFilePath, index=False)"
   ]
  },
  {
   "source": [
    "### Both drivers' files are merged in an all-in-one CSV"
   ],
   "cell_type": "markdown",
   "metadata": {}
  },
  {
   "cell_type": "code",
   "execution_count": 6,
   "metadata": {},
   "outputs": [
    {
     "output_type": "stream",
     "name": "stdout",
     "text": [
      "Current path -> C:\\Users\\angel\\GitHub\\finalExamUniMol\\Dataset\\Preprocessed_CSV\\\n"
     ]
    }
   ],
   "source": [
    "    oldFilePath = basePath + \"Preprocessed_CSV\\\\\"\n",
    "\n",
    "    print(\"Current path -> \" + oldFilePath)\n",
    "\n",
    "    os.chdir(oldFilePath)\n",
    "    files = os.listdir()\n",
    "\n",
    "    final_df = pd.concat([pd.read_csv(csv).assign(New=os.path.basename(csv)) for csv in files])\n",
    "    newFilePath = basePath + \"Final_Dataset.csv\"\n",
    "    final_df.to_csv(newFilePath, index=False)"
   ]
  },
  {
   "cell_type": "code",
   "execution_count": 66,
   "metadata": {},
   "outputs": [],
   "source": []
  }
 ],
 "metadata": {
  "kernelspec": {
   "display_name": "Python 3",
   "language": "python",
   "name": "python3"
  },
  "language_info": {
   "codemirror_mode": {
    "name": "ipython",
    "version": 3
   },
   "file_extension": ".py",
   "mimetype": "text/x-python",
   "name": "python",
   "nbconvert_exporter": "python",
   "pygments_lexer": "ipython3",
   "version": "3.8.5-final"
  }
 },
 "nbformat": 4,
 "nbformat_minor": 4
}